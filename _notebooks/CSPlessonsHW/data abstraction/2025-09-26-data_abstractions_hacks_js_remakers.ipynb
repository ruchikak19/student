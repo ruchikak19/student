{
 "cells": [
  {
   "cell_type": "code",
   "execution_count": null,
   "id": "e4102f0e",
   "metadata": {},
   "outputs": [],
   "source": [
    "---\n",
    "toc: true\n",
    "comments: false\n",
    "layout: post\n",
    "categories: [CSP Big Idea 3]\n",
    "title: 3.2 Data Abstractions JS Hack\n",
    "author: Jaynee Chauhan, Michelle Ji, Lucas Masterson\n",
    "description: Hack(s) for intro to data abstractions in JS.\n",
    "type: ccc\n",
    "permalink: /csp/big-idea-3/data-abstractions/p4/hacks-js\n",
    "---"
   ]
  },
  {
   "cell_type": "markdown",
   "id": "690b4172",
   "metadata": {},
   "source": [
    "## JS Lab: Library\n",
    "\n",
    "In this lab, similarly to the Python lab, you'll be working on a simple \"database\" for a library to understand CRUD operations in relation to representing redundant, similar data under one structure -- an abstraction.\n",
    "\n",
    "For JavaScript, you'll have to open the web console from Developer Tools (`ctrl + shift + p` -> `Developer: Toggle developer tools`)."
   ]
  },
  {
   "cell_type": "code",
   "execution_count": 3,
   "id": "d7228dda",
   "metadata": {
    "vscode": {
     "languageId": "javascript"
    }
   },
   "outputs": [
    {
     "data": {
      "application/javascript": "\nlet library = [\n    { title: \"1984\", author: \"George Orwell\", checkedOut: false },\n    { title: \"To Kill a Mockingbird\", author: \"Harper Lee\", checkedOut: true },\n    { title: \"The Great Gatsby\", author: \"F. Scott Fitzgerald\", checkedOut: false }\n];\n\n// Display all books\nfunction displayLibrary(lib) {\n    console.log(\"All books in the library:\");\n    lib.forEach((book, i) => {\n        console.log(`Index ${i}: Title: \"${book.title}\", Author: ${book.author}, Checked Out: ${book.checkedOut}`);\n    });\n}\n\n// Add a new book\nfunction addBook(lib) {\n    let title = prompt(\"Enter book title:\");\n    let author = prompt(\"Enter author name:\");\n    let checkedOutInput = prompt(\"Is the book checked out? (yes/no):\");\n    let checkedOut = checkedOutInput.toLowerCase() === \"yes\";\n\n    lib.push({ title, author, checkedOut });\n    alert(`Added book \"${title}\" by ${author}.`);\n}\n\n// Find a book by title\nfunction findBook(lib, searchTitle) {\n    let foundBook = lib.find(book => book.title.toLowerCase() === searchTitle.toLowerCase());\n    if (foundBook) {\n        console.log(`Found book: Title: \"${foundBook.title}\", Author: ${foundBook.author}, Checked Out: ${foundBook.checkedOut}`);\n    } else {\n        console.log(`Book with title \"${searchTitle}\" not found.`);\n    }\n}\n\n// Update a book's checkedOut status\nfunction updateBook(lib, searchTitle) {\n    let index = lib.findIndex(book => book.title.toLowerCase() === searchTitle.toLowerCase());\n    if (index !== -1) {\n        let checkedOutInput = prompt(`Is the book \"${lib[index].title}\" checked out? (yes/no):`);\n        lib[index].checkedOut = checkedOutInput.toLowerCase() === \"yes\";\n        alert(`Updated book \"${lib[index].title}\". Checked out status is now ${lib[index].checkedOut}.`);\n    } else {\n        alert(`Book with title \"${searchTitle}\" not found.`);\n    }\n}\n\n// Delete a book by title\nfunction deleteBook(lib, searchTitle) {\n    let index = lib.findIndex(book => book.title.toLowerCase() === searchTitle.toLowerCase());\n    if (index !== -1) {\n        let removed = lib.splice(index, 1)[0];\n        alert(`Deleted book \"${removed.title}\".`);\n    } else {\n        alert(`Book with title \"${searchTitle}\" not found.`);\n    }\n}\n\n// Example usage\ndisplayLibrary(library);\n",
      "text/plain": [
       "<IPython.core.display.Javascript object>"
      ]
     },
     "metadata": {},
     "output_type": "display_data"
    }
   ],
   "source": [
    "%%javascript\n",
    "\n",
    "let library = [\n",
    "    { title: \"1984\", author: \"George Orwell\", checkedOut: false },\n",
    "    { title: \"To Kill a Mockingbird\", author: \"Harper Lee\", checkedOut: true },\n",
    "    { title: \"The Great Gatsby\", author: \"F. Scott Fitzgerald\", checkedOut: false }\n",
    "];\n",
    "\n",
    "// Display all books\n",
    "function displayLibrary(lib) {\n",
    "    console.log(\"All books in the library:\");\n",
    "    lib.forEach((book, i) => {\n",
    "        console.log(`Index ${i}: Title: \"${book.title}\", Author: ${book.author}, Checked Out: ${book.checkedOut}`);\n",
    "    });\n",
    "}\n",
    "\n",
    "// Add a new book\n",
    "function addBook(lib) {\n",
    "    let title = prompt(\"Enter book title:\");\n",
    "    let author = prompt(\"Enter author name:\");\n",
    "    let checkedOutInput = prompt(\"Is the book checked out? (yes/no):\");\n",
    "    let checkedOut = checkedOutInput.toLowerCase() === \"yes\";\n",
    "    \n",
    "    lib.push({ title, author, checkedOut });\n",
    "    alert(`Added book \"${title}\" by ${author}.`);\n",
    "}\n",
    "\n",
    "// Find a book by title\n",
    "function findBook(lib, searchTitle) {\n",
    "    let foundBook = lib.find(book => book.title.toLowerCase() === searchTitle.toLowerCase());\n",
    "    if (foundBook) {\n",
    "        console.log(`Found book: Title: \"${foundBook.title}\", Author: ${foundBook.author}, Checked Out: ${foundBook.checkedOut}`);\n",
    "    } else {\n",
    "        console.log(`Book with title \"${searchTitle}\" not found.`);\n",
    "    }\n",
    "}\n",
    "\n",
    "// Update a book's checkedOut status\n",
    "function updateBook(lib, searchTitle) {\n",
    "    let index = lib.findIndex(book => book.title.toLowerCase() === searchTitle.toLowerCase());\n",
    "    if (index !== -1) {\n",
    "        let checkedOutInput = prompt(`Is the book \"${lib[index].title}\" checked out? (yes/no):`);\n",
    "        lib[index].checkedOut = checkedOutInput.toLowerCase() === \"yes\";\n",
    "        alert(`Updated book \"${lib[index].title}\". Checked out status is now ${lib[index].checkedOut}.`);\n",
    "    } else {\n",
    "        alert(`Book with title \"${searchTitle}\" not found.`);\n",
    "    }\n",
    "}\n",
    "\n",
    "// Delete a book by title\n",
    "function deleteBook(lib, searchTitle) {\n",
    "    let index = lib.findIndex(book => book.title.toLowerCase() === searchTitle.toLowerCase());\n",
    "    if (index !== -1) {\n",
    "        let removed = lib.splice(index, 1)[0];\n",
    "        alert(`Deleted book \"${removed.title}\".`);\n",
    "    } else {\n",
    "        alert(`Book with title \"${searchTitle}\" not found.`);\n",
    "    }\n",
    "}\n",
    "\n",
    "// Example usage\n",
    "displayLibrary(library);"
   ]
  }
 ],
 "metadata": {
  "kernelspec": {
   "display_name": "venv",
   "language": "python",
   "name": "python3"
  },
  "language_info": {
   "codemirror_mode": {
    "name": "ipython",
    "version": 3
   },
   "file_extension": ".py",
   "mimetype": "text/x-python",
   "name": "python",
   "nbconvert_exporter": "python",
   "pygments_lexer": "ipython3",
   "version": "3.12.3"
  }
 },
 "nbformat": 4,
 "nbformat_minor": 5
}
