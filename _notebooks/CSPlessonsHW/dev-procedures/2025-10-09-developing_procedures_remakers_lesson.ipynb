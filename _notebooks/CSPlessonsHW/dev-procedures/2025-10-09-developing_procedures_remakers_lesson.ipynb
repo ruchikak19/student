{
 "cells": [
  {
   "cell_type": "raw",
   "id": "e6667ee4",
   "metadata": {
    "vscode": {
     "languageId": "raw"
    }
   },
   "source": [
    "---\n",
    "toc: true\n",
    "comments: false\n",
    "layout: post\n",
    "title: Remakers - 3.13 Developing Procedures\n",
    "author: Krishna Visvanath, Sloane Sommers\n",
    "description: Lesson for developing procedures.\n",
    "permalink: /csp/big-idea-3/developing-procedures/p4/introduction\n",
    "---"
   ]
  },
  {
   "cell_type": "markdown",
   "id": "4835aebc",
   "metadata": {},
   "source": [
    "# Developing Procedures (Methods / Functions)\n",
    "\n",
    "Learning goals:\n",
    "- Understand what a procedure (method/function) is and why we use them.\n",
    "- See equivalent examples in Java and Python.\n",
    "- Play a short, interactive minigame that shows why good procedure names and organization matter."
   ]
  },
  {
   "cell_type": "markdown",
   "id": "4e58f38a",
   "metadata": {},
   "source": [
    "## What is a procedure?\n",
    "A procedure (also called a method or function) is a named block of code that does one task.\n",
    "Think of a procedure like a recipe step: it has a name, inputs (ingredients), and it produces a result or performs an action."
   ]
  },
  {
   "cell_type": "markdown",
   "id": "905b1e8d",
   "metadata": {},
   "source": [
    "## Story: The Dessert Robot- The Importance of Naming\n",
    "Imagine a robot chef who makes desserts. If we tell the robot `makeDessert()` it needs clear sub-steps: `measureFlour()`, `mixIngredients()`, `bake()`. Additionally, if we need to review code later, it is much easier to find the series of events responsible for `makeDessert()`. If we instead call everything `doIt()` the robot — and humans reading the code — get confused. Clear names make code easier to read, test, and reuse."
   ]
  },
  {
   "cell_type": "markdown",
   "id": "3b1f7791",
   "metadata": {},
   "source": [
    "### Java example (methods)\n",
    "Below is a short Java-style example showing a class with methods. This cell is explanatory only — it shows syntax and structure but the procedures aren't called."
   ]
  },
  {
   "cell_type": "code",
   "execution_count": null,
   "id": "26399e18",
   "metadata": {
    "vscode": {
     "languageId": "javascript"
    }
   },
   "outputs": [
    {
     "data": {
      "application/javascript": "function makeDessert() {\n    measureFlour();\n    mixIngredients();\n    bake();\n}\n\nfunction measureFlour() {\n    console.log(\"Measuring 2 cups of flour.\");\n}\n\nfunction mixIngredients() {\n    console.log(\"Mixing flour, sugar, eggs.\");\n}\n\nfunction bake() {\n    console.log(\"Baking at 350°F for 25 minutes.\");\n}\n\n// Run the procedure\nmakeDessert()\n",
      "text/plain": [
       "<IPython.core.display.Javascript object>"
      ]
     },
     "metadata": {},
     "output_type": "display_data"
    }
   ],
   "source": [
    "\n",
    "function makeDessert() {\n",
    "    measureFlour();\n",
    "    mixIngredients();\n",
    "    bake();\n",
    "}\n",
    "\n",
    "function measureFlour() {\n",
    "    console.log(\"Measuring 2 cups of flour.\");\n",
    "}\n",
    "\n",
    "function mixIngredients() {\n",
    "    console.log(\"Mixing flour, sugar, eggs.\");\n",
    "}\n",
    "\n",
    "function bake() {\n",
    "    console.log(\"Baking at 350°F for 25 minutes.\");\n",
    "}\n",
    "\n",
    "// Run the procedure\n",
    "makeDessert()\n"
   ]
  },
  {
   "cell_type": "markdown",
   "id": "10d51031",
   "metadata": {},
   "source": [
    "### Python example (functions)\n",
    "Here's the same idea in Python. Functions perform small tasks and are called from a main function."
   ]
  },
  {
   "cell_type": "code",
   "execution_count": null,
   "id": "5dde8ce3",
   "metadata": {},
   "outputs": [],
   "source": [
    "def make_dessert():\n",
    "    measure_flour()\n",
    "    mix_ingredients()\n",
    "    bake()\n",
    "\n",
    "def measure_flour():\n",
    "    print(\"Measuring 2 cups of flour.\")\n",
    "\n",
    "def mix_ingredients():\n",
    "    print(\"Mixing flour, sugar, eggs.\")\n",
    "\n",
    "def bake():\n",
    "    print(\"Baking at 350°F for 25 minutes.\")\n",
    "\n",
    "# Run the procedure\n",
    "if __name__ == '__main__':\n",
    "    make_dessert()"
   ]
  },
  {
   "cell_type": "markdown",
   "id": "132a0d1c",
   "metadata": {},
   "source": [
    "## Mini-game: Name the Procedures\n",
    "The game below shows a list of steps the program can take, each implemented as a function. Students type a name for a new procedure and the game will call it. If your name clearly describes the steps, it's easy to understand what the game will do. If you name everything `do_step` the code is confusing. Try both and see the difference.\n",
    "The cell that follows is interactive. Run it and follow the prompts in the notebook output."
   ]
  },
  {
   "cell_type": "code",
   "execution_count": 3,
   "id": "8d2f2ae7",
   "metadata": {},
   "outputs": [
    {
     "name": "stdout",
     "output_type": "stream",
     "text": [
      "Mini-game: Name a procedure for choosing an ingredient, putting it into the bowl (mixing), heating/baking, finishing the dessert\n",
      "Created a procedure called that does multiple steps.\n",
      "Now lets show two ways to look at the code:\n",
      "Good name (readable):\n",
      "   prepare_ingredient()  # clearly indicates the goal is to prepare an ingredient and finish the dessert\n",
      "Poor name (confusing):\n",
      "   do_step()  # what does this do? you must open the function to find out\n",
      "Canceled. You can run the procedure later by calling it by name.\n"
     ]
    }
   ],
   "source": [
    "import random\n",
    "\n",
    "def choose_ingredient():\n",
    "    return random.choice(['flour', 'sugar', 'eggs', 'milk'])\n",
    "\n",
    "def mix(item):\n",
    "    print(f\"Mixing {item} into the bowl.\")\n",
    "\n",
    "def heat():\n",
    "    print('Heating the oven to a friendly temperature...')\n",
    "\n",
    "def finish():\n",
    "    print('Dessert is ready!')\n",
    "\n",
    "def play_game():\n",
    "    print('Mini-game: Name a procedure for choosing an ingredient, putting it into the bowl (mixing), heating/baking, finishing the dessert')\n",
    "    name = input('Type a procedure name you want to create (e.g. prepare_ingredient): ').strip()\n",
    "    if not name:\n",
    "        print('No name entered — using default: prepare_ingredient')\n",
    "        name = 'prepare_ingredient'\n",
    "\n",
    "    # Create a new procedure dynamically with the given name that runs the sequence\n",
    "    def dynamic_procedure():\n",
    "        ingr = choose_ingredient()\n",
    "        mix(ingr)\n",
    "        heat()\n",
    "        finish()\n",
    "\n",
    "    # Bind it into globals so we can show how naming helps with readability\n",
    "    globals()[name] = dynamic_procedure\n",
    "\n",
    "    print(f'Created a procedure called that does multiple steps.')\n",
    "    print('Now lets show two ways to look at the code:')\n",
    "\n",
    "    print('Good name (readable):')\n",
    "    print(f'   {name}()  # clearly indicates the goal is to prepare an ingredient and finish the dessert')\n",
    "    print('Poor name (confusing):')\n",
    "    print('   do_step()  # what does this do? you must open the function to find out')\n",
    "\n",
    "    run = input('Type to execute your procedure now, or anything else to cancel: ').strip().lower()\n",
    "    if run == 'run':\n",
    "        print('Running the procedure...')\n",
    "        globals()[name]()\n",
    "    else:\n",
    "        print('Canceled. You can run the procedure later by calling it by name.')\n",
    "\n",
    "if __name__ == '__main__':\n",
    "    play_game()"
   ]
  },
  {
   "cell_type": "markdown",
   "id": "7de54282",
   "metadata": {},
   "source": [
    "### Demonstration of poor naming\n",
    "Below are two short examples showing the risk of vague names. It's much harder to remember `do_step()` does choosing, mixing, heating, and finishing. Good names reduce bugs and make collaboration easier."
   ]
  },
  {
   "cell_type": "code",
   "execution_count": null,
   "id": "1f2b5b1f",
   "metadata": {},
   "outputs": [],
   "source": [
    "# Example showing bad naming\n",
    "def do_step():\n",
    "    print('Choosing ingredient...')\n",
    "    print('Mixing...')\n",
    "    print('Heating...')\n",
    "    print('Finished!')\n",
    "\n",
    "# Later a collaborator sees do_step() and doesn't know what it does without opening it\n",
    "print('Calling do_step() (confusing name):')\n",
    "do_step()"
   ]
  },
  {
   "cell_type": "code",
   "execution_count": null,
   "id": "33f4be40",
   "metadata": {},
   "outputs": [],
   "source": [
    "# Second example showing bad naming\n",
    "def do_step():\n",
    "    print('thing1')\n",
    "    print('thing2')\n",
    "    print('thing3')\n",
    "\n",
    "# Later a collaborator is debugging code, and does not know what each procedure does without opening it, meaning they have to go through every line to debug"
   ]
  },
  {
   "cell_type": "markdown",
   "id": "7488d02b",
   "metadata": {},
   "source": [
    "## Teaching tips and exercises\n",
    "- Exercise 1: Rename the functions in the Python example to be more descriptive.\n",
    "- Exercise 2: Convert the Python functions to Java methods and explain access (public/private).\n",
    "- Exercise 3: Split a long procedure into smaller ones and show how tests become easier."
   ]
  },
  {
   "cell_type": "markdown",
   "id": "6d5e7c70",
   "metadata": {},
   "source": [
    "## How to run the mini-game\n",
    "Run the Python cells in order. When you reach the mini-game cell, you'll be prompted to type a procedure name and optionally run it. If you use the notebook server (Jupyter), the input prompt will appear under the cell output."
   ]
  }
 ],
 "metadata": {
  "kernelspec": {
   "display_name": "venv",
   "language": "python",
   "name": "python3"
  },
  "language_info": {
   "codemirror_mode": {
    "name": "ipython",
    "version": 3
   },
   "file_extension": ".py",
   "mimetype": "text/x-python",
   "name": "python",
   "nbconvert_exporter": "python",
   "pygments_lexer": "ipython3",
   "version": "3.12.3"
  }
 },
 "nbformat": 4,
 "nbformat_minor": 5
}
