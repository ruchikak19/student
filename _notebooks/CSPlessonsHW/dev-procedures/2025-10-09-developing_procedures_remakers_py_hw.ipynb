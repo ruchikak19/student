{
 "cells": [
  {
   "cell_type": "raw",
   "id": "29fdb64f",
   "metadata": {
    "vscode": {
     "languageId": "raw"
    }
   },
   "source": [
    "---\n",
    "toc: true\n",
    "layout: post\n",
    "categories: [Python]\n",
    "title: Remakers - 3.13 Developing Procedures Python Hacks\n",
    "description: \"Apply your skills to basic procedure development in Javascript.\"\n",
    "permalink: /python/developing-procedures/remakers-hw\n",
    "author: Krishna Visvanath, Sloane Sommers\n",
    "---"
   ]
  },
  {
   "cell_type": "markdown",
   "id": "51406078",
   "metadata": {},
   "source": [
    "### Q1 (Easy)\n",
    "Which of these procedures is named well, provide a **short** explanation of justification"
   ]
  },
  {
   "cell_type": "code",
   "execution_count": 1,
   "id": "85877c5a",
   "metadata": {},
   "outputs": [
    {
     "ename": "IndentationError",
     "evalue": "expected an indented block after function definition on line 1 (1843281653.py, line 3)",
     "output_type": "error",
     "traceback": [
      "  \u001b[36mCell\u001b[39m\u001b[36m \u001b[39m\u001b[32mIn[1]\u001b[39m\u001b[32m, line 3\u001b[39m\n\u001b[31m    \u001b[39m\u001b[31mdef do_it():\u001b[39m\n    ^\n\u001b[31mIndentationError\u001b[39m\u001b[31m:\u001b[39m expected an indented block after function definition on line 1\n"
     ]
    }
   ],
   "source": [
    "def mix_ingredients():\n",
    "\n",
    "def do_it():\n",
    "\n",
    "def make_move():"
   ]
  },
  {
   "cell_type": "markdown",
   "id": "e05b98ef",
   "metadata": {},
   "source": [
    "**Explanation Here:**\n",
    "Mix_ingredients is right because it involves a brief yet clear explanation of what the function is doing, of making a move. It has the smallest amount steps in a total procedure, making it the most clear."
   ]
  },
  {
   "cell_type": "markdown",
   "id": "3b2e2e46",
   "metadata": {},
   "source": [
    "### Q2 (Medium)\n",
    "Finish the code to have a correctly named procedure"
   ]
  },
  {
   "cell_type": "code",
   "execution_count": 1,
   "id": "e6d4b833",
   "metadata": {},
   "outputs": [
    {
     "name": "stdout",
     "output_type": "stream",
     "text": [
      "Moving forward.\n",
      "Turning left\n",
      "Moving forward.\n",
      "Moving forward again to complete left turn.\n"
     ]
    }
   ],
   "source": [
    "def move_forward():\n",
    "    print(\"Moving forward.\")\n",
    "\n",
    "def rotate_180():\n",
    "    print(\"Turning left\")\n",
    "\n",
    "def make_left_turn():\n",
    "    move_forward()\n",
    "    rotate_180()\n",
    "    move_forward()\n",
    "    print(\"Moving forward again to complete left turn.\")\n",
    "\n",
    "# Run the procedure\n",
    "if __name__ == '__main__':\n",
    "    make_left_turn()"
   ]
  },
  {
   "cell_type": "markdown",
   "id": "81c68339",
   "metadata": {},
   "source": [
    "### Q3 (Hard)\n",
    "Write code to fulfill the requirements\n",
    "Doing a dance! 🕺💃\n",
    "Must have\n",
    "1. A shimmy left procedure\n",
    "- Print `super cool left slide`\n",
    "2. A shimmy right procedure, print `even cooler right slide`\n",
    "3. Doing a bow to the crowd, print `Great dance!`, `the audience claps at your bow!`"
   ]
  },
  {
   "cell_type": "code",
   "execution_count": null,
   "id": "9f7c7c6f",
   "metadata": {},
   "outputs": [
    {
     "name": "stdout",
     "output_type": "stream",
     "text": [
      "super cool left slide\n",
      "even cooler right slide\n",
      "Great dance!, the audience claps at your bow!\n"
     ]
    }
   ],
   "source": [
    "def shimmy_left():\n",
    "    print(\"super cool left slide\")\n",
    "def shimmy_right():\n",
    "    print(\"even cooler right slide\")\n",
    "\n",
    "def doDance():\n",
    "    shimmy_left()\n",
    "    shimmy_right()\n",
    "    print(\"Great dance!\")\n",
    "    print(\"the audience claps at your bow!\")\n",
    "\n",
    "if __name__ == '__main__':\n",
    "    doDance()\n"
   ]
  }
 ],
 "metadata": {
  "kernelspec": {
   "display_name": "venv",
   "language": "python",
   "name": "python3"
  },
  "language_info": {
   "codemirror_mode": {
    "name": "ipython",
    "version": 3
   },
   "file_extension": ".py",
   "mimetype": "text/x-python",
   "name": "python",
   "nbconvert_exporter": "python",
   "pygments_lexer": "ipython3",
   "version": "3.12.3"
  }
 },
 "nbformat": 4,
 "nbformat_minor": 5
}
