{
 "cells": [
  {
   "cell_type": "raw",
   "id": "cae8bc40",
   "metadata": {
    "vscode": {
     "languageId": "raw"
    }
   },
   "source": [
    "---\n",
    "layout: post\n",
    "title: 3.10 Lists Lesson\n",
    "description: This is the comprehensive lesson for Big Idea 3.10, Lists.\n",
    "comments: true\n",
    "permalink: /csp/big-idea-3/lists/p4/lesson\n",
    "---"
   ]
  },
  {
   "cell_type": "markdown",
   "id": "44bdd529",
   "metadata": {},
   "source": [
    "# AP Computer Science Principles\n",
    "\n",
    "## Big Idea 3.10: Lists\n"
   ]
  },
  {
   "cell_type": "markdown",
   "id": "6a975112",
   "metadata": {},
   "source": [
    "### What Are Lists?\n",
    "\n",
    "A list is a collection of data elements that are ordered and can be accessed by their position (index). Lists are fundamental data structures in programming that allow you to store and manipulate multiple values in a single variable.\n",
    "\n",
    "### Key Characteristics of Lists:\n",
    "\n",
    "- Ordered: Elements maintain their position\n",
    "- Indexed: Each element has a numeric position (usually starting at 0 or 1)\n",
    "- Mutable: Elements can be changed, added, or removed\n",
    "- Can contain duplicates: The same value can appear multiple times\n",
    "\n",
    "### Real-World Examples:\n",
    "\n",
    "- A shopping list: [\"milk\", \"eggs\", \"bread\", \"butter\"]\n",
    "- Test scores: [85, 92, 78, 95, 88]\n",
    "- Daily temperatures: [72, 75, 68, 71, 73, 76, 74]\n",
    "\n"
   ]
  },
  {
   "cell_type": "markdown",
   "id": "4b1ccc5c",
   "metadata": {},
   "source": [
    "## Creating Lists\n",
    "\n"
   ]
  },
  {
   "cell_type": "code",
   "execution_count": null,
   "id": "e41bc785",
   "metadata": {},
   "outputs": [],
   "source": [
    "# List of integers\n",
    "ages = [15, 16, 17, 15, 16]\n",
    "\n",
    "# List of strings\n",
    "colors = [\"red\", \"blue\", \"green\", \"red\"]\n",
    "\n",
    "# List of mixed types\n",
    "mixed = [42, \"hello\", 3.14, True]"
   ]
  },
  {
   "cell_type": "code",
   "execution_count": null,
   "id": "9fc29a1a",
   "metadata": {
    "vscode": {
     "languageId": "javascript"
    }
   },
   "outputs": [],
   "source": [
    "// List (array) of integers\n",
    "let ages = [15, 16, 17, 15, 16];\n",
    "\n",
    "// List of strings\n",
    "let colors = [\"red\", \"blue\", \"green\", \"red\"];\n",
    "\n",
    "// List of mixed types\n",
    "let mixed = [42, \"hello\", 3.14, true];\n"
   ]
  },
  {
   "cell_type": "markdown",
   "id": "519b9811",
   "metadata": {},
   "source": [
    "## Accessing List Elements\n",
    "\n",
    "\n"
   ]
  },
  {
   "cell_type": "code",
   "execution_count": null,
   "id": "be4f8397",
   "metadata": {},
   "outputs": [],
   "source": [
    "fruits = [\"apple\", \"banana\", \"cherry\", \"date\"]\n",
    "\n",
    "print(fruits[0])   # \"apple\" - first element\n",
    "print(fruits[1])   # \"banana\" - second element\n",
    "print(fruits[3])   # \"date\" - fourth element\n",
    "print(fruits[-1])  # \"date\" - last element (Python only)"
   ]
  },
  {
   "cell_type": "markdown",
   "id": "800ed729",
   "metadata": {},
   "source": [
    "## Example 1\n",
    "\n",
    "### Sum and Average\n",
    "When working with numeric lists, two common operations are finding the total sum and the average (mean).\n",
    "Concept:\n",
    "\n",
    "- Sum: Add all numbers together\n",
    "- Average: Divide the sum by how many numbers there are\n",
    "\n",
    "### Sample Problem:\n",
    "A teacher has test scores: [78, 85, 92, 88, 95]\n",
    "Find the total points and average score."
   ]
  },
  {
   "cell_type": "code",
   "execution_count": null,
   "id": "6bd42c95",
   "metadata": {},
   "outputs": [],
   "source": [
    "let scores = [78, 85, 92, 88, 95];\n",
    "\n",
    "// Calculate sum\n",
    "let total = 0;\n",
    "for (let score of scores) {\n",
    "    total += score;\n",
    "}\n",
    "\n",
    "console.log(`Total points: ${total}`);  // 438\n",
    "\n",
    "// Calculate average\n",
    "let average = total / scores.length;\n",
    "console.log(`Average score: ${average}`);  // 87.6"
   ]
  },
  {
   "cell_type": "code",
   "execution_count": null,
   "id": "4f7fc860",
   "metadata": {},
   "outputs": [],
   "source": [
    "scores = [78, 85, 92, 88, 95]\n",
    "\n",
    "# Calculate sum\n",
    "total = 0\n",
    "for score in scores:\n",
    "    total += score\n",
    "\n",
    "print(f\"Total points: {total}\")  # 438\n",
    "\n",
    "# Calculate average\n",
    "average = total / len(scores)\n",
    "print(f\"Average score: {average}\")  # 87.6"
   ]
  },
  {
   "cell_type": "markdown",
   "id": "8ad2f356",
   "metadata": {},
   "source": [
    "## Example 2: Counting Frequencies\n",
    "Sometimes you need to count how many times each unique item appears in a list. This is called frequency counting.\n",
    "### Concept:\n",
    "Go through each item and keep track of how many times you've seen it using a dictionary (Python) or object (JavaScript).\n",
    "### Sample Problem:\n",
    "A survey asked students their favorite season:\n",
    "[\"winter\", \"summer\", \"fall\", \"summer\", \"summer\", \"spring\", \"fall\"]\n",
    "Count how many students chose each season."
   ]
  },
  {
   "cell_type": "code",
   "execution_count": null,
   "id": "36609565",
   "metadata": {},
   "outputs": [],
   "source": [
    "seasons = [\"winter\", \"summer\", \"fall\", \"summer\", \"summer\", \"spring\", \"fall\"]\n",
    "\n",
    "# Create empty dictionary to store counts\n",
    "frequency = {}\n",
    "\n",
    "# Count each item\n",
    "for season in seasons:\n",
    "    if season in frequency:\n",
    "        frequency[season] += 1\n",
    "    else:\n",
    "        frequency[season] = 1\n",
    "\n",
    "print(frequency)\n",
    "# Output: {'winter': 1, 'summer': 3, 'fall': 2, 'spring': 1}"
   ]
  },
  {
   "cell_type": "code",
   "execution_count": null,
   "id": "52ddff6f",
   "metadata": {
    "vscode": {
     "languageId": "javascript"
    }
   },
   "outputs": [],
   "source": [
    "let seasons = [\"winter\", \"summer\", \"fall\", \"summer\", \"summer\", \"spring\", \"fall\"];\n",
    "\n",
    "// Create empty object to store counts\n",
    "let frequency = {};\n",
    "\n",
    "// Count each item\n",
    "for (let season of seasons) {\n",
    "    if (frequency[season]) {\n",
    "        frequency[season]++;\n",
    "    } else {\n",
    "        frequency[season] = 1;\n",
    "    }\n",
    "}\n",
    "\n",
    "console.log(frequency);\n",
    "// Output: {winter: 1, summer: 3, fall: 2, spring: 1}"
   ]
  },
  {
   "cell_type": "markdown",
   "id": "8f33cd6f",
   "metadata": {},
   "source": [
    "## Example 3: Filtering Lists\n",
    "Filtering means creating a new list that contains only elements meeting certain criteria.\n",
    "### Concept:\n",
    "Check each element with a condition. If it passes, add it to the new list.\n",
    "### Sample Problem:\n",
    "A list contains ages: [12, 18, 15, 21, 17, 25, 14, 19]\n",
    "Create a new list with only ages 18 and above (adults)."
   ]
  },
  {
   "cell_type": "code",
   "execution_count": null,
   "id": "4ef19793",
   "metadata": {},
   "outputs": [],
   "source": [
    "ages = [12, 18, 15, 21, 17, 25, 14, 19]\n",
    "\n",
    "# Create empty list for adults\n",
    "adults = []\n",
    "\n",
    "# Check each age\n",
    "for age in ages:\n",
    "    if age >= 18:\n",
    "        adults.append(age)\n",
    "\n",
    "print(adults)  # [18, 21, 25, 19]"
   ]
  },
  {
   "cell_type": "code",
   "execution_count": null,
   "id": "1cdf7401",
   "metadata": {
    "vscode": {
     "languageId": "javascript"
    }
   },
   "outputs": [],
   "source": [
    "ages = [12, 18, 15, 21, 17, 25, 14, 19]\n",
    "\n",
    "# Create empty list for adults\n",
    "adults = []\n",
    "\n",
    "# Check each age\n",
    "for age in ages:\n",
    "    if age >= 18:\n",
    "        adults.append(age)\n",
    "\n",
    "print(adults)  # [18, 21, 25, 19]"
   ]
  },
  {
   "cell_type": "markdown",
   "id": "a1ec35e7",
   "metadata": {},
   "source": [
    "## Common Problems to Avoid\n",
    "\n",
    "- ❌ Off-by-one errors: Remember indexing starts at 0\n",
    "- ❌ Index out of range: Don't access list[5] if the list has only 4 elements\n",
    "- ❌ Modifying list while iterating: Can cause unexpected behavior\n",
    "- ❌ Forgetting to initialize variables: Set total = 0 before summing\n",
    "\n",
    "- ✓ Use descriptive names: student_names instead of list1\n",
    "- ✓ Check for empty lists: Before accessing elements\n",
    "- ✓ Test edge cases: Empty lists, single elements, all same values"
   ]
  },
  {
   "cell_type": "markdown",
   "id": "7cc40488",
   "metadata": {},
   "source": [
    "## Summary\n",
    " Lists are essential for storing and manipulating collections of data.  Through them, it is easy to access, create, and filter lists of data.\n",
    "### Understanding and Mastering These Objectives is Key to Your Success in AP Computer Science Principles:\n",
    "\n",
    "- Accessing elements by index\n",
    "- Computing sum and average\n",
    "- Counting frequency of items\n",
    "- Filtering based on conditions\n",
    "- Searching for specific values"
   ]
  }
 ],
 "metadata": {
  "kernelspec": {
   "display_name": "venv",
   "language": "python",
   "name": "python3"
  },
  "language_info": {
   "file_extension": ".js",
   "mimetype": "text/javascript",
   "name": "python",
   "version": "3.13.7"
  }
 },
 "nbformat": 4,
 "nbformat_minor": 5
}
