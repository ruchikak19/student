{
 "cells": [
  {
   "cell_type": "raw",
   "id": "5230e2ae",
   "metadata": {
    "vscode": {
     "languageId": "raw"
    }
   },
   "source": [
    "---\n",
    "layout: post\n",
    "title: Escape Room - Strings Lesson\n",
    "description: Escape Room lesson on strings in JavaScript and Python.\n",
    "permalink: /csp/strings/escape_room-lesson\n",
    "Author: Cyrus S, Rishabh J.\n",
    "---"
   ]
  },
  {
   "cell_type": "markdown",
   "id": "50ac2b24",
   "metadata": {},
   "source": [
    "Joke: Why did the programmer break up with String?\n",
    "→ Because she had too many attachments.\n",
    "\n",
    "\n",
    "# 🕵️‍♂️ String Heist — The Case of the Missing Character\n",
    "\n",
    "A mischievous thief slipped into the data and swapped a character or hid a space. If you can't spot the change, the scoreboard will name the wrong champion!\n",
    "\n",
    "Quick sleuthing tasks:\n",
    "- What does `\"Hello\".upper()` return? (Bet an imaginary cookie.)\n",
    "- How many characters does `\"abc \\n\"` contain? Could the thief have left a newline as a clue?\n",
    "\n",
    "Mini mission :\n",
    "- List two sneaky ways characters hide in strings (example: trailing spaces, weird capitalization).\n",
    "\n",
    "Why this matters:\n",
    "- Small string quirks break real systems (logins, filenames, messages).\n",
    "- Today you'll learn quick fixes (trim, case-normalize, inspect escapes) so the thief can't fool your code.\n",
    "\n",
    "Teacher tip: Ask students for a funny example of a typo or stray space they've seen — celebrate the detective stories!"
   ]
  },
  {
   "cell_type": "markdown",
   "id": "e4875a78",
   "metadata": {},
   "source": [
    "# AP CSP 3.4: Strings — Interactive Lesson \n",
    "\n",
    "Welcome to our lesson. In this lesson, you'll explore how to work with strings in JavaScript and Python, with interactive challenges and instant feedback.\n",
    "\n",
    "---\n",
    "\n",
    "## Why do we care about strings?\n",
    "- Strings are everywhere: names, messages, passwords, data.\n",
    "- You need to know how to read, change, and check them to build real apps.\n",
    "\n",
    "**Learning Goals:**\n",
    "- Understand string basics: length, concatenation, substring, case conversion, indexing.\n",
    "- Practice AP CSP required string tasks.\n",
    "- Get instant feedback and track your progress.\n",
    "\n",
    "---"
   ]
  },
  {
   "cell_type": "markdown",
   "id": "734d878d",
   "metadata": {},
   "source": [
    "## Quick Setup Check\n",
    "\n",
    "- Make sure you can run Python code cells below.\n",
    "- If you see errors, ask for help before continuing!\n",
    "\n",
    "---\n",
    "\n",
    "## Interactive String Basics: Try It!\n",
    "\n",
    "Below are some quick string challenges. Try each one and see instant feedback.\n"
   ]
  },
  {
   "cell_type": "code",
   "execution_count": 1,
   "id": "0fa02194",
   "metadata": {},
   "outputs": [
    {
     "data": {
      "application/vnd.jupyter.widget-view+json": {
       "model_id": "d9ec9153417a48cda77f55916892e914",
       "version_major": 2,
       "version_minor": 0
      },
      "text/plain": [
       "HTML(value='<b>1. What is the length of the string \"Debuggers\"?</b>')"
      ]
     },
     "metadata": {},
     "output_type": "display_data"
    },
    {
     "data": {
      "application/vnd.jupyter.widget-view+json": {
       "model_id": "0f3755816b7e435ba59ad6c67b89c3dc",
       "version_major": 2,
       "version_minor": 0
      },
      "text/plain": [
       "Text(value='', placeholder='Enter a number')"
      ]
     },
     "metadata": {},
     "output_type": "display_data"
    },
    {
     "data": {
      "application/vnd.jupyter.widget-view+json": {
       "model_id": "0adacb0c88294cfe9efec0e2cd912ed0",
       "version_major": 2,
       "version_minor": 0
      },
      "text/plain": [
       "Button(button_style='info', description='Check', style=ButtonStyle())"
      ]
     },
     "metadata": {},
     "output_type": "display_data"
    },
    {
     "data": {
      "application/vnd.jupyter.widget-view+json": {
       "model_id": "56d41aa6bbc24e81bb2cc708349230b8",
       "version_major": 2,
       "version_minor": 0
      },
      "text/plain": [
       "Output()"
      ]
     },
     "metadata": {},
     "output_type": "display_data"
    }
   ],
   "source": [
    "# Try It 1: What is the length of the string \"Debuggers\"?\n",
    "from IPython.display import display, Javascript\n",
    "import ipywidgets as widgets\n",
    "\n",
    "q1 = widgets.Text(placeholder='Enter a number')\n",
    "btn1 = widgets.Button(description='Check', button_style='info')\n",
    "out1 = widgets.Output()\n",
    "\n",
    "def check1(b):\n",
    "    with out1:\n",
    "        out1.clear_output()\n",
    "        if q1.value.strip() == '9':\n",
    "            print('✅ Correct! \"Debuggers\" has 9 letters.')\n",
    "            display(Javascript(\"localStorage.setItem('csp34_l2_try1','true');\"))\n",
    "        else:\n",
    "            print('❌ Try again! Hint: Count each letter.')\n",
    "btn1.on_click(check1)\n",
    "display(widgets.HTML('<b>1. What is the length of the string \"Debuggers\"?</b>'), q1, btn1, out1)"
   ]
  },
  {
   "cell_type": "code",
   "execution_count": 2,
   "id": "7be725ed",
   "metadata": {},
   "outputs": [
    {
     "data": {
      "application/vnd.jupyter.widget-view+json": {
       "model_id": "604b50094b4942529c347a3664574488",
       "version_major": 2,
       "version_minor": 0
      },
      "text/plain": [
       "HTML(value='<b>2. Concatenate two words of your choice:</b>')"
      ]
     },
     "metadata": {},
     "output_type": "display_data"
    },
    {
     "data": {
      "application/vnd.jupyter.widget-view+json": {
       "model_id": "cf9595af73d9407593db74477d54cb65",
       "version_major": 2,
       "version_minor": 0
      },
      "text/plain": [
       "Text(value='', placeholder='First word')"
      ]
     },
     "metadata": {},
     "output_type": "display_data"
    },
    {
     "data": {
      "application/vnd.jupyter.widget-view+json": {
       "model_id": "1a25b2fb836b4227b75fccbc0f7f0f4b",
       "version_major": 2,
       "version_minor": 0
      },
      "text/plain": [
       "Text(value='', placeholder='Second word')"
      ]
     },
     "metadata": {},
     "output_type": "display_data"
    },
    {
     "data": {
      "application/vnd.jupyter.widget-view+json": {
       "model_id": "ddf3cfe2b0194a25ae595aeac629b863",
       "version_major": 2,
       "version_minor": 0
      },
      "text/plain": [
       "Button(button_style='info', description='Check', style=ButtonStyle())"
      ]
     },
     "metadata": {},
     "output_type": "display_data"
    },
    {
     "data": {
      "application/vnd.jupyter.widget-view+json": {
       "model_id": "86b812bceb994c9a9d3bf3fd4abde019",
       "version_major": 2,
       "version_minor": 0
      },
      "text/plain": [
       "Output()"
      ]
     },
     "metadata": {},
     "output_type": "display_data"
    }
   ],
   "source": [
    "# Try It 2: Concatenate two strings (self-contained)\n",
    "from IPython.display import display, Javascript\n",
    "import ipywidgets as widgets\n",
    "\n",
    "q2a = widgets.Text(placeholder='First word')\n",
    "q2b = widgets.Text(placeholder='Second word')\n",
    "btn2 = widgets.Button(description='Check', button_style='info')\n",
    "out2 = widgets.Output()\n",
    "\n",
    "def check2(b):\n",
    "    with out2:\n",
    "        out2.clear_output()\n",
    "        a = q2a.value.strip()\n",
    "        b = q2b.value.strip()\n",
    "        if a and b:\n",
    "            no_space = a + b\n",
    "            with_space = a + ' ' + b\n",
    "            print(f\"No space: {no_space}\")\n",
    "            print(f\"With space: {with_space}\")\n",
    "            display(Javascript(\"localStorage.setItem('csp34_l2_try2','true');\"))\n",
    "        else:\n",
    "            print('❌ Enter both words!')\n",
    "btn2.on_click(check2)\n",
    "display(widgets.HTML('<b>2. Concatenate two words of your choice:</b>'), q2a, q2b, btn2, out2)"
   ]
  },
  {
   "cell_type": "code",
   "execution_count": 3,
   "id": "dbf6479d",
   "metadata": {},
   "outputs": [
    {
     "data": {
      "application/vnd.jupyter.widget-view+json": {
       "model_id": "0426a53f25ae4725b774b5c170596a6e",
       "version_major": 2,
       "version_minor": 0
      },
      "text/plain": [
       "HTML(value='<b>3. Extract a substring: Enter a word and start/end indices</b>')"
      ]
     },
     "metadata": {},
     "output_type": "display_data"
    },
    {
     "data": {
      "application/vnd.jupyter.widget-view+json": {
       "model_id": "78a4331785994abdb6b94dc48c313d15",
       "version_major": 2,
       "version_minor": 0
      },
      "text/plain": [
       "Text(value='', placeholder='Type a word')"
      ]
     },
     "metadata": {},
     "output_type": "display_data"
    },
    {
     "data": {
      "application/vnd.jupyter.widget-view+json": {
       "model_id": "010db248a5f84076a724574fbab567ab",
       "version_major": 2,
       "version_minor": 0
      },
      "text/plain": [
       "IntText(value=0, description='Start:')"
      ]
     },
     "metadata": {},
     "output_type": "display_data"
    },
    {
     "data": {
      "application/vnd.jupyter.widget-view+json": {
       "model_id": "01b64bba8dfa4ac18a32529c55605663",
       "version_major": 2,
       "version_minor": 0
      },
      "text/plain": [
       "IntText(value=3, description='End:')"
      ]
     },
     "metadata": {},
     "output_type": "display_data"
    },
    {
     "data": {
      "application/vnd.jupyter.widget-view+json": {
       "model_id": "424d67d4d01946a4aab73ec5a885959f",
       "version_major": 2,
       "version_minor": 0
      },
      "text/plain": [
       "Button(button_style='info', description='Check', style=ButtonStyle())"
      ]
     },
     "metadata": {},
     "output_type": "display_data"
    },
    {
     "data": {
      "application/vnd.jupyter.widget-view+json": {
       "model_id": "f0c31229091d495981002ec246c40767",
       "version_major": 2,
       "version_minor": 0
      },
      "text/plain": [
       "Output()"
      ]
     },
     "metadata": {},
     "output_type": "display_data"
    }
   ],
   "source": [
    "# Try It 3: Extract a substring\n",
    "q3 = widgets.Text(placeholder='Type a word')\n",
    "q3_start = widgets.IntText(value=0, description='Start:')\n",
    "q3_end = widgets.IntText(value=3, description='End:')\n",
    "btn3 = widgets.Button(description='Check', button_style='info')\n",
    "out3 = widgets.Output()\n",
    "\n",
    "def check3(b):\n",
    "    with out3:\n",
    "        out3.clear_output()\n",
    "        word = q3.value.strip()\n",
    "        s, e = q3_start.value, q3_end.value\n",
    "        if word and 0 <= s < e <= len(word):\n",
    "            print(f'Substring: {word[s:e]}')\n",
    "            display(Javascript(\"localStorage.setItem('csp34_l2_try3','true');\"))\n",
    "        else:\n",
    "            print('❌ Enter a word and valid start/end!')\n",
    "btn3.on_click(check3)\n",
    "display(widgets.HTML('<b>3. Extract a substring: Enter a word and start/end indices</b>'), q3, q3_start, q3_end, btn3, out3)"
   ]
  },
  {
   "cell_type": "code",
   "execution_count": 10,
   "id": "f104206c",
   "metadata": {},
   "outputs": [
    {
     "data": {
      "application/vnd.jupyter.widget-view+json": {
       "model_id": "b76a794b3d3647bf97fb6661b3259f23",
       "version_major": 2,
       "version_minor": 0
      },
      "text/plain": [
       "HTML(value='<b>4. Convert a word to uppercase:</b>')"
      ]
     },
     "metadata": {},
     "output_type": "display_data"
    },
    {
     "data": {
      "application/vnd.jupyter.widget-view+json": {
       "model_id": "06767b11ca134963a75f5b30c56c1870",
       "version_major": 2,
       "version_minor": 0
      },
      "text/plain": [
       "Text(value='', placeholder='Type a word')"
      ]
     },
     "metadata": {},
     "output_type": "display_data"
    },
    {
     "data": {
      "application/vnd.jupyter.widget-view+json": {
       "model_id": "0e071d2568a94b57b5a13435ce770313",
       "version_major": 2,
       "version_minor": 0
      },
      "text/plain": [
       "Button(button_style='info', description='Check', style=ButtonStyle())"
      ]
     },
     "metadata": {},
     "output_type": "display_data"
    },
    {
     "data": {
      "application/vnd.jupyter.widget-view+json": {
       "model_id": "4121597947024ceca6a099128f942238",
       "version_major": 2,
       "version_minor": 0
      },
      "text/plain": [
       "Output()"
      ]
     },
     "metadata": {},
     "output_type": "display_data"
    }
   ],
   "source": [
    "# Try It 4: Convert to uppercase\n",
    "q4 = widgets.Text(placeholder='Type a word')\n",
    "btn4 = widgets.Button(description='Check', button_style='info')\n",
    "out4 = widgets.Output()\n",
    "\n",
    "def check4(b):\n",
    "    with out4:\n",
    "        out4.clear_output()\n",
    "        word = q4.value.strip()\n",
    "        if word:\n",
    "            print(f'Uppercase: {word.upper()}')\n",
    "            display(Javascript(\"localStorage.setItem('csp34_l2_try4','true');\"))\n",
    "        else:\n",
    "            print('❌ Enter a word!')\n",
    "btn4.on_click(check4)\n",
    "display(widgets.HTML('<b>4. Convert a word to uppercase:</b>'), q4, btn4, out4)"
   ]
  },
  {
   "cell_type": "markdown",
   "id": "e61b3516",
   "metadata": {},
   "source": [
    "---\n",
    "layout: post\n",
    "title: \"Escape Room 3.4 - Level 2 String Searching\"\n",
    "description: \"Level 2 of the CSP 3.4 Escape Room - Master string searching and pattern matching\"\n",
    "type: lesson\n",
    "toc: true\n",
    "comments: true\n",
    "permalink: /csp/escape-room/level2\n",
    "author: Team Debuggers\n",
    "---"
   ]
  },
  {
   "cell_type": "markdown",
   "id": "8d51817a",
   "metadata": {},
   "source": [
    "## 🧭 Navigation\n",
    "\n",
    "<div style=\"text-align: center; margin: 30px 0;\">\n",
    "    <button onclick=\"window.location.href='/csp/escape-room/level1'\" style=\"background: #6c757d; color: white; border: none; padding: 15px 25px; border-radius: 8px; margin: 10px; cursor: pointer; font-size: 16px;\">⬅️ Previous: Level 1</button>\n",
    "    <button onclick=\"window.location.href='/csp/escape-room/levels'\" style=\"background: #28a745; color: white; border: none; padding: 15px 25px; border-radius: 8px; margin: 10px; cursor: pointer; font-size: 16px;\">🏠 Level Hub</button>\n",
    "    <button onclick=\"window.location.href='/csp/escape-room/level3'\" id=\"next-level-btn\" style=\"background: #6c757d; color: white; border: none; padding: 15px 25px; border-radius: 8px; margin: 10px; cursor: not-allowed; font-size: 16px;\" disabled>➡️ Next: Level 3</button>\n",
    "</div>\n",
    "\n",
    "<div style=\"background: #e8f5e8; padding: 15px; border-left: 4px solid #28a745; margin: 20px 0;\">\n",
    "    <h4>📚 Advanced Concepts Mastered:</h4>\n",
    "    <ul>\n",
    "        <li><strong>Pattern Searching:</strong> Finding all occurrences of patterns in text</li>\n",
    "        <li><strong>Frequency Analysis:</strong> Counting and analyzing character frequencies</li>\n",
    "        <li><strong>Substring Operations:</strong> Finding common substrings and longest matches</li>\n",
    "        <li><strong>String Relationships:</strong> Rotations, anagrams, and pattern detection</li>\n",
    "        <li><strong>Algorithm Efficiency:</strong> Optimizing search and analysis operations</li>\n",
    "    </ul>\n",
    "</div>\n",
    "\n",
    "### 🎯 Reflection Questions:\n",
    "1. **How would you optimize the pattern searching algorithm for very large texts?**\n",
    "2. **What real-world applications use frequency analysis?**\n",
    "3. **Can you think of other ways to detect if strings are rotations of each other?**\n",
    "4. **How might these algorithms be used in data compression or security?**\n",
    "\n",
    "<script>\n",
    "// Timer for Level 2\n",
    "let startTime = Date.now();\n",
    "let timerInterval;\n",
    "\n",
    "function updateTimer() {\n",
    "    const elapsed = Date.now() - startTime;\n",
    "    const minutes = Math.floor(elapsed / 60000);\n",
    "    const seconds = Math.floor((elapsed % 60000) / 1000);\n",
    "    document.getElementById('level-timer').textContent = \n",
    "        `⏱️ Time: ${minutes.toString().padStart(2, '0')}:${seconds.toString().padStart(2, '0')}`;\n",
    "}\n",
    "\n",
    "timerInterval = setInterval(updateTimer, 1000);\n",
    "\n",
    "// Check if level 3 should be unlocked\n",
    "document.addEventListener('DOMContentLoaded', function() {\n",
    "    const progress = JSON.parse(localStorage.getItem('escapeRoomProgress') || '{}');\n",
    "    const nextBtn = document.getElementById('next-level-btn');\n",
    "    \n",
    "    if (progress.completedLevels && progress.completedLevels.includes(2)) {\n",
    "        nextBtn.disabled = false;\n",
    "        nextBtn.style.background = '#007bff';\n",
    "        nextBtn.style.cursor = 'pointer';\n",
    "    }\n",
    "});\n",
    "</script>"
   ]
  },
  {
   "cell_type": "markdown",
   "id": "7b4ef65b",
   "metadata": {},
   "source": [
    "## ✅ Progress Tracker (Level 2 Try‑its)\n",
    "<div id=\"l2-progress\" style=\"background:#f8f9fa;border:1px solid #e9ecef;border-radius:8px;padding:12px;margin:12px 0;\">\n",
    "  <div style=\"display:flex;gap:12px;align-items:center;flex-wrap:wrap;\">\n",
    "    <div><strong>Status:</strong></div>\n",
    "    <div id=\"l2-p1\" style=\"padding:6px 10px;border-radius:6px;background:#fff;border:1px solid #e9ecef;\">🔴 contains_sub</div>\n",
    "    <div id=\"l2-p2\" style=\"padding:6px 10px;border-radius:6px;background:#fff;border:1px solid #e9ecef;\">🔴 count_sub_nonoverlap</div>\n",
    "    <div id=\"l2-p3\" style=\"padding:6px 10px;border-radius:6px;background:#fff;border:1px solid #e9ecef;\">🔴 starts_or_ends_with</div>\n",
    "  </div>\n",
    "</div>\n",
    "<script>\n",
    "(function updateL2Progress(){\n",
    "  function mark(id, ok){\n",
    "    const el = document.getElementById(id);\n",
    "    if(!el) return;\n",
    "    const label = el.textContent.replace(/^.[^\\s]*/,'').trim();\n",
    "    el.textContent = (ok ? '🟢 ' : '🔴 ') + label;\n",
    "    el.style.borderColor = ok ? '#28a745' : '#e9ecef';\n",
    "    el.style.background = ok ? '#e8f5e9' : '#fff';\n",
    "  }\n",
    "  mark('l2-p1', localStorage.getItem('csp34_l2_contains')==='true');\n",
    "  mark('l2-p2', localStorage.getItem('csp34_l2_count')==='true');\n",
    "  mark('l2-p3', localStorage.getItem('csp34_l2_startend')==='true');\n",
    "})();\n",
    "</script>"
   ]
  }
 ],
 "metadata": {
  "kernelspec": {
   "display_name": ".venv",
   "language": "python",
   "name": "python3"
  },
  "language_info": {
   "codemirror_mode": {
    "name": "ipython",
    "version": 3
   },
   "file_extension": ".py",
   "mimetype": "text/x-python",
   "name": "python",
   "nbconvert_exporter": "python",
   "pygments_lexer": "ipython3",
   "version": "3.12.3"
  }
 },
 "nbformat": 4,
 "nbformat_minor": 5
}
