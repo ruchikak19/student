{
 "cells": [
  {
   "cell_type": "markdown",
   "id": "0747a274",
   "metadata": {},
   "source": [
    "# AP CSP 3.4 — Python Strings: Free-Response Quiz\n",
    "\n",
    "This quiz focuses only on Python string operations (no JavaScript). Type your answers and click Check Answers.\n",
    "- Case-insensitive where appropriate\n",
    "- Quotes around answers are optional\n",
    "- True/False accepts yes/no, t/f, 1/0"
   ]
  },
  {
   "cell_type": "code",
   "execution_count": 1,
   "id": "91537994",
   "metadata": {},
   "outputs": [
    {
     "name": "stdout",
     "output_type": "stream",
     "text": [
      "🐍 Python Strings — Free-Response Quiz\n",
      "Answer the questions below and click Check Answers.\n",
      "\n"
     ]
    },
    {
     "data": {
      "application/vnd.jupyter.widget-view+json": {
       "model_id": "bf4af63f94f14caf9d3a53a5dc3804ba",
       "version_major": 2,
       "version_minor": 0
      },
      "text/plain": [
       "HTML(value=\"<b>1. What does 'hello'[1:4] return?</b>\")"
      ]
     },
     "metadata": {},
     "output_type": "display_data"
    },
    {
     "data": {
      "application/vnd.jupyter.widget-view+json": {
       "model_id": "145aadf0b71747f58edd5c1f7704196b",
       "version_major": 2,
       "version_minor": 0
      },
      "text/plain": [
       "Text(value='', placeholder='e.g., ell')"
      ]
     },
     "metadata": {},
     "output_type": "display_data"
    },
    {
     "data": {
      "application/vnd.jupyter.widget-view+json": {
       "model_id": "1ae5267110e64e2eb567a5ba884b3859",
       "version_major": 2,
       "version_minor": 0
      },
      "text/plain": [
       "HTML(value=\"<b>2. What is len('Escape Room')?</b>\")"
      ]
     },
     "metadata": {},
     "output_type": "display_data"
    },
    {
     "data": {
      "application/vnd.jupyter.widget-view+json": {
       "model_id": "8d1b30ad40b54ae7a12c3d98cd6227dc",
       "version_major": 2,
       "version_minor": 0
      },
      "text/plain": [
       "Text(value='', placeholder='Enter a number')"
      ]
     },
     "metadata": {},
     "output_type": "display_data"
    },
    {
     "data": {
      "application/vnd.jupyter.widget-view+json": {
       "model_id": "f0f02e4d790346289563bf96779eb5d3",
       "version_major": 2,
       "version_minor": 0
      },
      "text/plain": [
       "HTML(value=\"<b>3. What does 'Python'.lower() return?</b>\")"
      ]
     },
     "metadata": {},
     "output_type": "display_data"
    },
    {
     "data": {
      "application/vnd.jupyter.widget-view+json": {
       "model_id": "8bf2d6b4cc724d36a702d39f16bc3b65",
       "version_major": 2,
       "version_minor": 0
      },
      "text/plain": [
       "Text(value='', placeholder='e.g., python')"
      ]
     },
     "metadata": {},
     "output_type": "display_data"
    },
    {
     "data": {
      "application/vnd.jupyter.widget-view+json": {
       "model_id": "a5d1c560950840588b0fb80768b22d5a",
       "version_major": 2,
       "version_minor": 0
      },
      "text/plain": [
       "HTML(value=\"<b>4. If s = '   CS Rocks!  ', what does s.strip() return?</b>\")"
      ]
     },
     "metadata": {},
     "output_type": "display_data"
    },
    {
     "data": {
      "application/vnd.jupyter.widget-view+json": {
       "model_id": "9d15fac8fdee470f96bae1337f0c2d82",
       "version_major": 2,
       "version_minor": 0
      },
      "text/plain": [
       "Text(value='', placeholder='e.g., CS Rocks!')"
      ]
     },
     "metadata": {},
     "output_type": "display_data"
    },
    {
     "data": {
      "application/vnd.jupyter.widget-view+json": {
       "model_id": "f61ba7479183459ab1221f1206983d38",
       "version_major": 2,
       "version_minor": 0
      },
      "text/plain": [
       "HTML(value=\"<b>5. Does 'algorithm' start with 'algo'?</b> (True/False)\")"
      ]
     },
     "metadata": {},
     "output_type": "display_data"
    },
    {
     "data": {
      "application/vnd.jupyter.widget-view+json": {
       "model_id": "1f09e2defee748dd96d2ecaad2651877",
       "version_major": 2,
       "version_minor": 0
      },
      "text/plain": [
       "Text(value='', placeholder='True/False')"
      ]
     },
     "metadata": {},
     "output_type": "display_data"
    },
    {
     "data": {
      "application/vnd.jupyter.widget-view+json": {
       "model_id": "83427d325b8e489eac376a48c05995d3",
       "version_major": 2,
       "version_minor": 0
      },
      "text/plain": [
       "HTML(value=\"<b>6. What is 'banana'.count('an')?</b>\")"
      ]
     },
     "metadata": {},
     "output_type": "display_data"
    },
    {
     "data": {
      "application/vnd.jupyter.widget-view+json": {
       "model_id": "481a860b28b342f9a21ff3d67d8dbf0d",
       "version_major": 2,
       "version_minor": 0
      },
      "text/plain": [
       "Text(value='', placeholder='Enter a number')"
      ]
     },
     "metadata": {},
     "output_type": "display_data"
    },
    {
     "data": {
      "application/vnd.jupyter.widget-view+json": {
       "model_id": "e3f2e726a0d94e29b28fd7e110a8d04e",
       "version_major": 2,
       "version_minor": 0
      },
      "text/plain": [
       "HTML(value=\"<b>7. What index does 'debuggers'.find('bug') return?</b>\")"
      ]
     },
     "metadata": {},
     "output_type": "display_data"
    },
    {
     "data": {
      "application/vnd.jupyter.widget-view+json": {
       "model_id": "2caa670497144ee1b1de55934b0cf4b5",
       "version_major": 2,
       "version_minor": 0
      },
      "text/plain": [
       "Text(value='', placeholder='Enter a number')"
      ]
     },
     "metadata": {},
     "output_type": "display_data"
    },
    {
     "data": {
      "application/vnd.jupyter.widget-view+json": {
       "model_id": "dc79cf6255af44e2b5e915e588ebe26f",
       "version_major": 2,
       "version_minor": 0
      },
      "text/plain": [
       "Button(button_style='success', description='Check Answers', icon='check', style=ButtonStyle())"
      ]
     },
     "metadata": {},
     "output_type": "display_data"
    },
    {
     "data": {
      "application/vnd.jupyter.widget-view+json": {
       "model_id": "64bdcffa5dfc46f98c48eb6af6a0d223",
       "version_major": 2,
       "version_minor": 0
      },
      "text/plain": [
       "Output()"
      ]
     },
     "metadata": {},
     "output_type": "display_data"
    }
   ],
   "source": [
    "# Python-only Strings Quiz\n",
    "from IPython.display import display, HTML, Javascript\n",
    "import ipywidgets as widgets\n",
    "\n",
    "print(\"🐍 Python Strings — Free-Response Quiz\")\n",
    "print(\"Answer the questions below and click Check Answers.\\n\")\n",
    "\n",
    "# Q1: Slice\n",
    "q1_label = widgets.HTML(\"<b>1. What does 'hello'[1:4] return?</b>\")\n",
    "q1 = widgets.Text(placeholder='e.g., ell')\n",
    "\n",
    "# Q2: Length\n",
    "q2_label = widgets.HTML(\"<b>2. What is len('Escape Room')?</b>\")\n",
    "q2 = widgets.Text(placeholder='Enter a number')\n",
    "\n",
    "# Q3: Lowercase\n",
    "q3_label = widgets.HTML(\"<b>3. What does 'Python'.lower() return?</b>\")\n",
    "q3 = widgets.Text(placeholder='e.g., python')\n",
    "\n",
    "# Q4: Strip\n",
    "q4_label = widgets.HTML(\"<b>4. If s = '   CS Rocks!  ', what does s.strip() return?</b>\")\n",
    "q4 = widgets.Text(placeholder='e.g., CS Rocks!')\n",
    "\n",
    "# Q5: startswith (True/False)\n",
    "q5_label = widgets.HTML(\"<b>5. Does 'algorithm' start with 'algo'?</b> (True/False)\")\n",
    "q5 = widgets.Text(placeholder='True/False')\n",
    "\n",
    "# Q6: count\n",
    "q6_label = widgets.HTML(\"<b>6. What is 'banana'.count('an')?</b>\")\n",
    "q6 = widgets.Text(placeholder='Enter a number')\n",
    "\n",
    "# Q7: find\n",
    "q7_label = widgets.HTML(\"<b>7. What index does 'debuggers'.find('bug') return?</b>\")\n",
    "q7 = widgets.Text(placeholder='Enter a number')\n",
    "\n",
    "submit_btn = widgets.Button(description='Check Answers', button_style='success', icon='check')\n",
    "output = widgets.Output()\n",
    "\n",
    "def parse_bool_like(s: str):\n",
    "    v = s.strip().lower()\n",
    "    if v in {'true','t','yes','y','1'}: return True\n",
    "    if v in {'false','f','no','n','0'}: return False\n",
    "    return None\n",
    "\n",
    "def strip_quotes(s: str):\n",
    "    return s.strip().strip(\"'\").strip('\"')\n",
    "\n",
    "def clean_str(s: str):\n",
    "    return strip_quotes(s).strip()\n",
    "\n",
    "def check_answers(btn):\n",
    "    with output:\n",
    "        output.clear_output()\n",
    "        score, total = 0, 7\n",
    "        print('📊 QUIZ RESULTS')\n",
    "        print('='*40)\n",
    "\n",
    "        # Q1\n",
    "        a1 = clean_str(q1.value).lower()\n",
    "        if a1 == 'ell':\n",
    "            score += 1; print('✅ Q1: CORRECT')\n",
    "        else:\n",
    "            print('❌ Q1: INCORRECT — Correct: ell')\n",
    "\n",
    "        # Q2 (len of 'Escape Room' is 11)\n",
    "        a2 = clean_str(q2.value)\n",
    "        if a2.isdigit() and int(a2) == 11:\n",
    "            score += 1; print('✅ Q2: CORRECT')\n",
    "        else:\n",
    "            print('❌ Q2: INCORRECT — Correct: 11 (spaces count)')\n",
    "\n",
    "        # Q3\n",
    "        a3 = clean_str(q3.value).lower()\n",
    "        if a3 == 'python':\n",
    "            score += 1; print('✅ Q3: CORRECT')\n",
    "        else:\n",
    "            print(\"❌ Q3: INCORRECT — Correct: python\")\n",
    "\n",
    "        # Q4\n",
    "        a4 = strip_quotes(q4.value)\n",
    "        if a4 == 'CS Rocks!':\n",
    "            score += 1; print('✅ Q4: CORRECT')\n",
    "        else:\n",
    "            print(\"❌ Q4: INCORRECT — Correct: CS Rocks!\")\n",
    "\n",
    "        # Q5\n",
    "        a5 = parse_bool_like(q5.value)\n",
    "        if a5 is None:\n",
    "            print('⚠️ Q5: Could not parse. Please answer True/False.')\n",
    "        elif a5 is True:\n",
    "            score += 1; print('✅ Q5: CORRECT')\n",
    "        else:\n",
    "            print(\"❌ Q5: INCORRECT — Correct: True\")\n",
    "\n",
    "        # Q6\n",
    "        a6 = clean_str(q6.value)\n",
    "        if a6.isdigit() and int(a6) == 2:\n",
    "            score += 1; print('✅ Q6: CORRECT')\n",
    "        else:\n",
    "            print(\"❌ Q6: INCORRECT — Correct: 2\")\n",
    "\n",
    "        # Q7 ('debuggers'.find('bug') is 2)\n",
    "        a7 = clean_str(q7.value)\n",
    "        if a7.isdigit() and int(a7) == 2:\n",
    "            score += 1; print('✅ Q7: CORRECT')\n",
    "        else:\n",
    "            print(\"❌ Q7: INCORRECT — Correct: 2\")\n",
    "\n",
    "        print('='*40)\n",
    "        print(f'🎯 Your Score: {score}/{total}')\n",
    "        print(f'📈 Percentage: {score/total*100:.1f}%')\n",
    "        try:\n",
    "            display(Javascript(\"localStorage.setItem('csp34_hw_py_quiz_tried','true');\"))\n",
    "        except Exception:\n",
    "            pass\n",
    "\n",
    "submit_btn.on_click(check_answers)\n",
    "\n",
    "display(q1_label, q1, q2_label, q2, q3_label, q3, q4_label, q4, q5_label, q5, q6_label, q6, q7_label, q7, submit_btn, output)"
   ]
  }
 ],
 "metadata": {
  "kernelspec": {
   "display_name": ".venv",
   "language": "python",
   "name": "python3"
  },
  "language_info": {
   "codemirror_mode": {
    "name": "ipython",
    "version": 3
   },
   "file_extension": ".py",
   "mimetype": "text/x-python",
   "name": "python",
   "nbconvert_exporter": "python",
   "pygments_lexer": "ipython3",
   "version": "3.12.3"
  }
 },
 "nbformat": 4,
 "nbformat_minor": 5
}
