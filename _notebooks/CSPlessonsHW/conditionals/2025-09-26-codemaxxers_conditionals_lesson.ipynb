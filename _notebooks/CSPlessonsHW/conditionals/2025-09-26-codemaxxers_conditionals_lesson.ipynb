{
 "cells": [
  {
   "cell_type": "raw",
   "id": "5e8839dc",
   "metadata": {
    "vscode": {
     "languageId": "raw"
    }
   },
   "source": [
    "---\n",
    "title: \"Conditionals in Javascript and Python - Lesson\"\n",
    "description: \"Apply your skills to basic algorithmic design with conditionals.\"\n",
    "layout: post\n",
    "permalink: /csp/CodeMaxxers/conditionals/p4/lesson\n",
    "---\n"
   ]
  },
  {
   "cell_type": "markdown",
   "id": "c9b03521",
   "metadata": {},
   "source": [
    "# Before we start\n",
    "**What’s Happening Here:**\n",
    "- The game is *listening* for a key press.\n",
    "- `if` checks which key was pressed.\n",
    "- Depending on the condition, the game runs a different action:\n",
    "  - If `O` → start moving the pushers.\n",
    "  - If `Escape` → stop them.\n",
    "  - Otherwise → print a message.\n",
    "- The game also checks whether if the key's direction is facing the lock and it is touching the lock\n",
    "  - if yes, go to the next level\n",
    "  - if no, continue with the game\n",
    "  \n",
    "Every time the player presses a key, the program runs this decision tree.  \n",
    "This is exactly what you’ll be learning to write in your own code today!"
   ]
  },
  {
   "cell_type": "markdown",
   "id": "c9cdef53",
   "metadata": {},
   "source": [
    "\n",
    "# CSP 3.6 — Conditionals \n",
    "\n",
    "Conditionals let a program **choose** what to do based on whether something is **True** or **False**.\n",
    "\n",
    "If it rains → take an umbrella 🌧️; otherwise → wear sunglasses 😎.\n"
   ]
  },
  {
   "cell_type": "markdown",
   "id": "cd472b68",
   "metadata": {},
   "source": [
    "\n",
    "## 🎯 Objectives\n",
    "By the end, you will be able to\n",
    "- Explain **selection** and **conditions**.\n",
    "- Write `if`, `if/else`, and `if/elif/else` statements.\n",
    "- Build boolean expressions using **comparisons** and `and` / `or` / `not`.\n",
    "- Predict what branch of code will run given different inputs.\n",
    "\n"
   ]
  },
  {
   "cell_type": "markdown",
   "id": "a120bbdc",
   "metadata": {},
   "source": [
    "\n",
    "##  Key Vocabulary\n",
    "- **Condition**: a test that is either **True** or **False**.\n",
    "- **Boolean**: a value that is `True` or `False`.\n",
    "- **Branch**: the path your program takes depending on the condition.\n",
    "- **Selection**: choosing different actions based on conditions.\n"
   ]
  },
  {
   "cell_type": "markdown",
   "id": "555a3d0a",
   "metadata": {},
   "source": [
    "\n",
    "## 🧭 How selection flows\n",
    "```\n",
    "Start\n",
    "  │\n",
    "  ▼\n",
    "[ Evaluate condition ]\n",
    "   ├── True  → do Action A\n",
    "   └── False → do Action B\n",
    "```\n"
   ]
  },
  {
   "cell_type": "markdown",
   "id": "fe2522f4",
   "metadata": {},
   "source": [
    "\n",
    "## 1) Boolean expressions & comparisons\n",
    "A **boolean expression** always gives `True` or `False`.\n",
    "\n",
    "Common **comparisons** :\n",
    "- `>`  greater than\n",
    "- `<`  less than\n",
    "- `>=` greater or equal\n",
    "- `<=` less or equal\n",
    "- `==` equal to\n",
    "- `!=` not equal to\n",
    "\n",
    "**Logical operators** (single level for this lesson): `and`, `or`, `not`\n"
   ]
  },
  {
   "cell_type": "code",
   "execution_count": null,
   "id": "e9e30cd7",
   "metadata": {
    "vscode": {
     "languageId": "javascript"
    }
   },
   "outputs": [
    {
     "name": "stdout",
     "output_type": "stream",
     "text": [
      "x > y: False\n",
      "x == 7: True\n",
      "x != y: True\n",
      "x in [0,10] AND y in [0,10]: True\n",
      "x in [0,10] OR y in [0,10]: True\n",
      "NOT (x > y): True\n"
     ]
    }
   ],
   "source": [
    "# Try it: change the values and re-run to see True/False\n",
    "x, y = 7, 10\n",
    "\n",
    "print(\"x > y:\", x > y)\n",
    "print(\"x == 7:\", x == 7)\n",
    "print(\"x != y:\", x != y)\n",
    "\n",
    "\n",
    "print(\"x in [0,10] AND y in [0,10]:\", (0 <= x <= 10) and (0 <= y <= 10))\n",
    "print(\"x in [0,10] OR y in [0,10]:\",  (0 <= x <= 10) or  (0 <= y <= 10))\n",
    "print(\"NOT (x > y):\", not (x > y))"
   ]
  },
  {
   "cell_type": "markdown",
   "id": "3fef0ee2",
   "metadata": {},
   "source": [
    "\n",
    "## 2) `if` — run a block **only when** the condition is True\n"
   ]
  },
  {
   "cell_type": "code",
   "execution_count": null,
   "id": "e1d9d0c3",
   "metadata": {
    "vscode": {
     "languageId": "javascript"
    }
   },
   "outputs": [
    {
     "name": "stdout",
     "output_type": "stream",
     "text": [
      "You can drive!\n"
     ]
    }
   ],
   "source": [
    "# Example: driving check\n",
    "age = 18\n",
    "if age >= 16:\n",
    "    print(\"You can drive!\")  # this line only runs if condition is True"
   ]
  },
  {
   "cell_type": "code",
   "execution_count": 3,
   "id": "e2169116",
   "metadata": {
    "vscode": {
     "languageId": "javascript"
    }
   },
   "outputs": [
    {
     "name": "stdout",
     "output_type": "stream",
     "text": [
      "You can drive!\n"
     ]
    }
   ],
   "source": [
    "let age = 18;\n",
    "if (age >= 16) {\n",
    "  console.log(\"You can drive!\") //this line only runs if condition is True\n",
    "}"
   ]
  },
  {
   "cell_type": "markdown",
   "id": "a34a317e",
   "metadata": {},
   "source": [
    "\n",
    "**Think & Try:**  \n",
    "- Change `age` to 10, 16, 20. When does the message print?\n",
    "- Explain the role of the **colon `:`** and **indentation** in Python.\n"
   ]
  },
  {
   "cell_type": "markdown",
   "id": "28fc0c5b",
   "metadata": {},
   "source": [
    "\n",
    "## 3) `if / else` — choose **one** of two branches\n",
    "Exactly one branch runs.\n"
   ]
  },
  {
   "cell_type": "code",
   "execution_count": null,
   "id": "35406a88",
   "metadata": {
    "vscode": {
     "languageId": "javascript"
    }
   },
   "outputs": [
    {
     "name": "stdout",
     "output_type": "stream",
     "text": [
      "You cannot drive yet.\n"
     ]
    }
   ],
   "source": [
    "# Example: simple gate\n",
    "age = 14\n",
    "if age >= 16:\n",
    "    print(\"You can drive!\")\n",
    "else:\n",
    "    print(\"You cannot drive yet.\")"
   ]
  },
  {
   "cell_type": "code",
   "execution_count": 1,
   "id": "eba1df0d",
   "metadata": {
    "vscode": {
     "languageId": "javascript"
    }
   },
   "outputs": [
    {
     "name": "stdout",
     "output_type": "stream",
     "text": [
      "You can drive!\n"
     ]
    }
   ],
   "source": [
    "let age = 18;\n",
    "if (age >= 16) {\n",
    "  console.log(\"You can drive!\");\n",
    "} else {\n",
    "  console.log(\"You cannot drive yet.\");\n",
    "}"
   ]
  },
  {
   "cell_type": "markdown",
   "id": "6c5a09cd",
   "metadata": {},
   "source": [
    "\n",
    "**Think & Try:**  \n",
    "- Flip the comparison to `age > 15`. Does it behave the same?  \n",
    "- Reword messages to fit your style.\n"
   ]
  },
  {
   "cell_type": "markdown",
   "id": "08ed4b5c",
   "metadata": {},
   "source": [
    "\n",
    "## 4) `if / elif / else` — multiple conditions\n",
    "Python checks **top to bottom** and runs the **first** matching branch.\n"
   ]
  },
  {
   "cell_type": "code",
   "execution_count": null,
   "id": "6a2bc72f",
   "metadata": {
    "vscode": {
     "languageId": "javascript"
    }
   },
   "outputs": [
    {
     "name": "stdout",
     "output_type": "stream",
     "text": [
      "B\n"
     ]
    }
   ],
   "source": [
    "# Example: letter grade\n",
    "score = 85\n",
    "if score >= 90:\n",
    "    print(\"A\")\n",
    "elif score >= 80:\n",
    "    print(\"B\")\n",
    "elif score >= 70:\n",
    "    print(\"C\")\n",
    "else:\n",
    "    print(\"D or F\")"
   ]
  },
  {
   "cell_type": "code",
   "execution_count": 3,
   "id": "49c389e1",
   "metadata": {
    "vscode": {
     "languageId": "javascript"
    }
   },
   "outputs": [
    {
     "name": "stdout",
     "output_type": "stream",
     "text": [
      "B\n"
     ]
    }
   ],
   "source": [
    "let score = 85;\n",
    "\n",
    "if (score >= 90) {\n",
    "    console.log(\"A\");\n",
    "} else if (score >= 80) {\n",
    "    console.log(\"B\");\n",
    "} else if (score >= 70) {\n",
    "    console.log(\"C\");\n",
    "} else {\n",
    "    console.log(\"D or F\");\n",
    "}\n"
   ]
  },
  {
   "cell_type": "markdown",
   "id": "97ee6a4d",
   "metadata": {},
   "source": [
    "\n",
    "**Think & Try:**  \n",
    "- Set `score = 90`, `80`, `79`, `70`. Which branch triggers?  \n",
    "- Why must `elif score >= 80` come **after** the `>= 90` check?\n"
   ]
  },
  {
   "cell_type": "markdown",
   "id": "3bf394b9",
   "metadata": {},
   "source": [
    "\n",
    "## 5) Combining conditions with `and` / `or` / `not`\n",
    "We can combine simple comparisons into a single (non-nested) boolean expression.\n"
   ]
  },
  {
   "cell_type": "code",
   "execution_count": null,
   "id": "b703dc0b",
   "metadata": {},
   "outputs": [],
   "source": [
    "# Example: number in range [0, 10]\n",
    "if (n >= 0) and (n <= 10):  \n",
    "    print(\"n is in [0,10]\")\n",
    "else:\n",
    "    print(\"n is outside [0,10]\")"
   ]
  },
  {
   "cell_type": "code",
   "execution_count": 1,
   "id": "076294e0",
   "metadata": {
    "vscode": {
     "languageId": "javascript"
    }
   },
   "outputs": [
    {
     "name": "stdout",
     "output_type": "stream",
     "text": [
      "n is in [0,10]\n"
     ]
    }
   ],
   "source": [
    "//Javascript\n",
    "let n = 7;\n",
    "if (n >= 0 && n <= 10) {\n",
    "  console.log(\"n is in [0,10]\");\n",
    "} else {\n",
    "  console.log(\"n is outside [0,10]\");\n",
    "}\n",
    "\n",
    "//Note: `&&` is JS's AND, `||` is OR, `!` is NOT. In Python we write `and`, `or`, `not`."
   ]
  },
  {
   "cell_type": "markdown",
   "id": "01303563",
   "metadata": {},
   "source": [
    "\n",
    "**Try**\n",
    "- Changing `n` to `-2`, `0`, `10`, `11`.  \n",
    "- Replacing the \"and\" with \"or\". Think of situations when you would use \"and\" & situations when you would use \"or\"\n"
   ]
  },
  {
   "cell_type": "markdown",
   "id": "24c2cf97",
   "metadata": {},
   "source": [
    "\n",
    "##  Mini Practice: Predict, then Run\n",
    "Before you run each cell, think and **predict** what it will print. Then run and compare.\n"
   ]
  },
  {
   "cell_type": "code",
   "execution_count": 1,
   "id": "4758a94f",
   "metadata": {},
   "outputs": [
    {
     "name": "stdout",
     "output_type": "stream",
     "text": [
      "Chilly\n"
     ]
    }
   ],
   "source": [
    "# 1) What prints?\n",
    "temp = 60\n",
    "if temp > 70:\n",
    "    print(\"Warm\")\n",
    "else:\n",
    "    print(\"Chilly\")  # Predict before you run"
   ]
  },
  {
   "cell_type": "code",
   "execution_count": 2,
   "id": "539ee413",
   "metadata": {},
   "outputs": [
    {
     "name": "stdout",
     "output_type": "stream",
     "text": [
      "Fizz\n"
     ]
    }
   ],
   "source": [
    "# 2) What prints?\n",
    "water = \"sparkling\"\n",
    "if water == \"still\":\n",
    "    print(\"Calm\")\n",
    "elif water == \"sparkling\":\n",
    "    print(\"Fizz\")\n",
    "else:\n",
    "    print(\"Unknown\")"
   ]
  },
  {
   "cell_type": "code",
   "execution_count": 3,
   "id": "07416f4a",
   "metadata": {},
   "outputs": [
    {
     "name": "stdout",
     "output_type": "stream",
     "text": [
      "Case B\n"
     ]
    }
   ],
   "source": [
    "# 3) What prints?\n",
    "x = 3\n",
    "y = 12\n",
    "if x > 0 and y < 10:\n",
    "    print(\"Case A\")\n",
    "elif x > 0 and y >= 10:\n",
    "    print(\"Case B\")\n",
    "else:\n",
    "    print(\"Case C\")"
   ]
  },
  {
   "cell_type": "markdown",
   "id": "d1622c18",
   "metadata": {},
   "source": [
    "\n",
    "##  Common issues and solutions\n",
    "- **Missing colon `:`** after `if`, `elif`, or `else`. → *Add it*\n",
    "- **Indentation**: code inside a branch must be indented consistently (usually 4 spaces).\n",
    "- **Using `=` vs `==`**: `=` assigns a value; `==` tests for equality.\n",
    "- **Case sensitivity**: `\"Yes\"` is not the same as `\"yes\"`. Use `.lower()` for user inputs so that your program actually runs.\n",
    "- **Exclusive vs inclusive**: `>` (strict) vs `>=` (includes equality). Choose carefully based on your situation\n"
   ]
  },
  {
   "cell_type": "markdown",
   "id": "e1a1633f",
   "metadata": {},
   "source": [
    "\n",
    "## Review\n",
    "| Concept | Purpose | Example |\n",
    "|---|---|---|\n",
    "| `if` | Run only when condition True | `if age >= 16: print(\"Drive\")` |\n",
    "| `if/else` | Choose between 2 paths | `if x % 2 == 0: ... else: ...` |\n",
    "| `if/elif/else` | Many options in order | grades ladder |\n",
    "| comparisons | build boolean tests | `==, !=, >, <, >=, <=` |\n",
    "| logic | test multiple requirements | `and`, `or`, `not` |\n"
   ]
  },
  {
   "cell_type": "markdown",
   "id": "ca17d55e",
   "metadata": {},
   "source": [
    "\n",
    "##  Exit Ticket \n",
    "Write a **one-sentence** answer in a new cell:  \n",
    "- What does **selection** mean in programming?  \n",
    "- Give a **real-world** example.\n"
   ]
  }
 ],
 "metadata": {
  "kernelspec": {
   "display_name": "venv (3.12.3)",
   "language": "python",
   "name": "python3"
  },
  "language_info": {
   "codemirror_mode": {
    "name": "ipython",
    "version": 3
   },
   "file_extension": ".py",
   "mimetype": "text/x-python",
   "name": "python",
   "nbconvert_exporter": "python",
   "pygments_lexer": "ipython3",
   "version": "3.12.3"
  }
 },
 "nbformat": 4,
 "nbformat_minor": 5
}
