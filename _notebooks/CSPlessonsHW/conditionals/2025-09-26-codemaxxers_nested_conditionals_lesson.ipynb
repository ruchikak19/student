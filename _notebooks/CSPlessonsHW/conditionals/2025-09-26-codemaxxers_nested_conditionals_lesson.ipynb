{
  "cells": [
    {
      "cell_type": "raw",
      "metadata": {
        "vscode": {
          "languageId": "raw"
        }
      },
      "source": [
        "---\n",
        "title: \"Nested Conditionals in Javascript and Python - Lesson\"\n",
        "description: \"Explore how to use nested conditionals in JavaScript and Python to make complex, hierarchical decisions in code.\"\n",
        "layout: post\n",
        "permalink: /csp/codemaxxers/nested-conditionals-lesson\n",
        "---"
      ]
    },
    {
      "cell_type": "markdown",
      "metadata": {},
      "source": [
        "# Nested Conditionals Lesson\n",
        "\n",
        "## What are Nested Conditionals?\n",
        "\n",
        "Nested conditionals are **conditionals within conditionals**. They allow us to check multiple conditions in a hierarchical way, where the result of one condition determines which other conditions we check next."
      ]
    },
    {
      "cell_type": "markdown",
      "metadata": {},
      "source": [
        "## Pseudocode Structure\n",
        "\n",
        "Here's the basic structure of nested conditionals:\n",
        "\n",
        "```\n",
        "if (condition) {\n",
        "    if (condition) {\n",
        "        // code\n",
        "    } else {\n",
        "        // code\n",
        "    }\n",
        "} else {\n",
        "    if (condition) {\n",
        "        // code\n",
        "    } else {\n",
        "        // code\n",
        "    }\n",
        "}\n",
        "```\n",
        "\n",
        "In this structure, we check an initial condition. Depending on whether it's true or false, we move to one segment of code and check another conditional. **Going down one path means you do not go down another.**"
      ]
    },
    {
      "cell_type": "markdown",
      "metadata": {},
      "source": [
        "## Example 1: Game Level Completion\n",
        "\n",
        "Let's look at a real-world example. Imagine we're playing a game that checks if we've completed a level by satisfying two requirements:\n",
        "- **TIME** is less than 3 seconds\n",
        "- **SCORE** is greater than 1000\n",
        "\n",
        "If both conditions are met, we add 3 lives and increase the level."
      ]
    },
    {
      "cell_type": "code",
      "execution_count": null,
      "metadata": {
        "vscode": {
          "languageId": "javascript"
        }
      },
      "outputs": [],
      "source": [
        "%%js\n",
        "// Initial game state\n",
        "let score = 1200;\n",
        "let time = 2.5;\n",
        "let level = 2;\n",
        "let lives = 3;\n",
        "\n",
        "console.log(`Starting state: Score=${score}, Time=${time}, Level=${level}, Lives=${lives}`);\n",
        "\n",
        "// Simple condition (not complete yet)\n",
        "if (time < 3 && score > 1000) {\n",
        "    lives = lives + 3;\n",
        "    level = level + 1;\n",
        "    console.log(\"Both conditions met! +3 lives, +1 level\");\n",
        "}\n",
        "\n",
        "console.log(`Final state: Score=${score}, Time=${time}, Level=${level}, Lives=${lives}`);"
      ]
    },
    {
      "cell_type": "markdown",
      "metadata": {},
      "source": [
        "### Problem: What if the conditions aren't met?\n",
        "\n",
        "The above code doesn't tell the game what to do if:\n",
        "- Only one condition is met\n",
        "- Neither condition is met\n",
        "\n",
        "Let's fix this with **nested conditionals**!"
      ]
    },
    {
      "cell_type": "markdown",
      "metadata": {},
      "source": [
        "## Complete Nested Conditional Example"
      ]
    },
    {
      "cell_type": "code",
      "execution_count": null,
      "metadata": {
        "vscode": {
          "languageId": "javascript"
        }
      },
      "outputs": [],
      "source": [
        "%%js\n",
        "// Initial game state\n",
        "let score = 1200;\n",
        "let time = 4.2;\n",
        "let level = 2;\n",
        "let lives = 3;\n",
        "\n",
        "console.log(`Starting state: Score=${score}, Time=${time}, Level=${level}, Lives=${lives}`);\n",
        "\n",
        "// Complete nested conditional\n",
        "if (time < 3 && score > 1000) {\n",
        "    // Both conditions met\n",
        "    lives = lives + 3;\n",
        "    level = level + 1;\n",
        "    console.log(\"Both conditions met! +3 lives, +1 level\");\n",
        "} else {\n",
        "    // At least one condition was NOT met\n",
        "    if (time < 3 || score > 1000) {\n",
        "        // At least one condition is met\n",
        "        lives = lives + 1;\n",
        "        console.log(\"One condition met! +1 life\");\n",
        "    } else {\n",
        "        // Neither condition is met\n",
        "        lives = lives - 1;\n",
        "        console.log(\"No conditions met! -1 life\");\n",
        "    }\n",
        "}\n",
        "\n",
        "console.log(`Final state: Score=${score}, Time=${time}, Level=${level}, Lives=${lives}`);"
      ]
    },
    {
      "cell_type": "markdown",
      "metadata": {},
      "source": [
        "### 🤔 Prediction Exercise\n",
        "\n",
        "Before you ran the code above, what did you predict would happen?\n",
        "\n",
        "**Answer:** Since `time = 4.2` (NOT less than 3) and `score = 1200` (IS greater than 1000), only ONE condition is met. So we take the `else` branch, then the inner `if` branch is true, giving us +1 life. The player ends with 4 lives and stays at level 2."
      ]
    },
    {
      "cell_type": "markdown",
      "metadata": {},
      "source": [
        "## Example 2: Temperature and Weather Advisory System\n",
        "\n",
        "Let's look at another real-world application: a weather advisory system that gives recommendations based on temperature and whether it's raining."
      ]
    },
    {
      "cell_type": "code",
      "execution_count": null,
      "metadata": {
        "vscode": {
          "languageId": "javascript"
        }
      },
      "outputs": [],
      "source": [
        "%%js\n",
        "let temperature = 85;\n",
        "let isRaining = false;\n",
        "\n",
        "console.log(`Current conditions: ${temperature}°F, Raining: ${isRaining}`);\n",
        "console.log(\"\\nWeather Advisory:\");\n",
        "\n",
        "if (temperature > 80) {\n",
        "    // It's hot\n",
        "    if (isRaining) {\n",
        "        console.log(\"It's hot and rainy - stay hydrated and bring an umbrella!\");\n",
        "    } else {\n",
        "        console.log(\"It's hot and sunny - wear sunscreen and stay hydrated!\");\n",
        "    }\n",
        "} else {\n",
        "    // It's not hot\n",
        "    if (isRaining) {\n",
        "        console.log(\"It's cool and rainy - bring a jacket and umbrella!\");\n",
        "    } else {\n",
        "        console.log(\"It's cool and clear - perfect weather for outdoor activities!\");\n",
        "    }\n",
        "}"
      ]
    },
    {
      "cell_type": "markdown",
      "metadata": {},
      "source": [
        "## Try It Yourself!\n",
        "\n",
        "Modify the temperature and `isRaining` values in the cell above and run it again to see different advisories."
      ]
    },
    {
      "cell_type": "markdown",
      "metadata": {},
      "source": [
        "## Example 3: Student Grade Calculator\n",
        "\n",
        "Here's a more complex example that determines a student's grade and eligibility for honors based on their test score and homework completion."
      ]
    },
    {
      "cell_type": "code",
      "execution_count": null,
      "metadata": {
        "vscode": {
          "languageId": "javascript"
        }
      },
      "outputs": [],
      "source": [
        "%%js\n",
        "let testScore = 88;\n",
        "let homeworkCompleted = 0.95;  // 95% of homework completed\n",
        "\n",
        "console.log(`Test Score: ${testScore}`);\n",
        "console.log(`Homework Completion: ${homeworkCompleted * 100}%`);\n",
        "console.log(\"\\nGrade Evaluation:\");\n",
        "\n",
        "if (testScore >= 90) {\n",
        "    // A grade territory\n",
        "    if (homeworkCompleted >= 0.9) {\n",
        "        console.log(\"Grade: A\");\n",
        "        console.log(\"Status: Honors eligible! Excellent work!\");\n",
        "    } else {\n",
        "        console.log(\"Grade: A\");\n",
        "        console.log(\"Status: Great test score, but complete more homework for honors.\");\n",
        "    }\n",
        "} else {\n",
        "    // Below A grade\n",
        "    if (testScore >= 80) {\n",
        "        // B grade territory\n",
        "        if (homeworkCompleted >= 0.9) {\n",
        "            console.log(\"Grade: B+\");\n",
        "            console.log(\"Status: Good work! A little more effort on tests for honors.\");\n",
        "        } else {\n",
        "            console.log(\"Grade: B\");\n",
        "            console.log(\"Status: Solid performance. Focus on homework completion.\");\n",
        "        }\n",
        "    } else {\n",
        "        // Below B grade\n",
        "        console.log(\"Grade: C or below\");\n",
        "        console.log(\"Status: Let's meet to discuss how to improve your grade.\");\n",
        "    }\n",
        "}"
      ]
    },
    {
      "cell_type": "markdown",
      "metadata": {},
      "source": [
        "## 🎯 Quick Check: Test Your Understanding\n",
        "\n",
        "What would happen in the grade calculator if:\n",
        "1. `testScore = 92` and `homeworkCompleted = 0.85`?\n",
        "2. `testScore = 85` and `homeworkCompleted = 0.95`?\n",
        "3. `testScore = 75` and `homeworkCompleted = 0.80`?\n",
        "\n",
        "Try changing the values above and running the code to check your predictions!"
      ]
    },
    {
      "cell_type": "markdown",
      "metadata": {},
      "source": [
        "## Real-World Applications\n",
        "\n",
        "Nested conditionals are used everywhere in programming:\n",
        "\n",
        "1. **Video Games**: Checking player state, inventory, and abilities\n",
        "2. **E-commerce**: Determining shipping costs, discounts, and eligibility\n",
        "3. **Social Media**: Filtering content based on user preferences and privacy settings\n",
        "4. **Banking Apps**: Validating transactions based on balance, limits, and security checks\n",
        "5. **Fitness Apps**: Providing workout recommendations based on fitness level and goals\n",
        "\n",
        "The key is that nested conditionals let you make **hierarchical decisions** where one choice determines what other choices you need to make next."
      ]
    },
    {
      "cell_type": "markdown",
      "metadata": {},
      "source": [
        "## Summary\n",
        "\n",
        "- **Nested conditionals** are conditionals inside other conditionals\n",
        "- They allow us to create complex decision-making logic\n",
        "- Each path through the nested structure is exclusive - you only go down one path\n",
        "- Use nested conditionals when the conditions you need to check depend on previous conditions\n",
        "- Remember to handle all possible cases (including edge cases!)"
      ]
    }
  ],
  "metadata": {
    "kernelspec": {
      "display_name": "Python 3",
      "language": "python",
      "name": "python3"
    },
    "language_info": {
      "codemirror_mode": {
        "name": "ipython",
        "version": 3
      },
      "file_extension": ".py",
      "mimetype": "text/x-python",
      "name": "python",
      "nbconvert_exporter": "python",
      "pygments_lexer": "ipython3",
      "version": "3.8.0"
    }
  },
  "nbformat": 4,
  "nbformat_minor": 4
}
