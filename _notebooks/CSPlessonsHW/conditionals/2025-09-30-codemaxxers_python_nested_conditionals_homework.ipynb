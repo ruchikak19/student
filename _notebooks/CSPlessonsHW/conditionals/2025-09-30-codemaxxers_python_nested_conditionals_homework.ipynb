{
  "cells": [
    {
      "cell_type": "raw",
      "metadata": {
        "vscode": {
          "languageId": "raw"
        }
      },
      "source": [
        "---\n",
        "title: \"Nested Conditionals in Python - Homework\"\n",
        "description: \"Apply your skills of multilayered conditionals and combine all you've learned so far.\"\n",
        "layout: post\n",
        "permalink: /csp/codemaxxers/nested-conditionals-homework-python\n",
        "---"
      ]
    },
    {
      "cell_type": "markdown",
      "metadata": {},
      "source": [
        "# Nested Conditionals Homework: Python\n",
        "\n",
        "Complete the following three problems to practice working with nested conditionals. Each problem increases in difficulty. **All problems must be completed in Python.**"
      ]
    },
    {
      "cell_type": "markdown",
      "metadata": {},
      "source": [
        "## Problem 1: Complete the Shipping Cost Calculator (Easy)\n",
        "\n",
        "An online store calculates shipping costs based on the order total and membership status. The partially completed code below needs to be finished.\n",
        "\n",
        "**Rules:**\n",
        "- If order total is $50 or more:\n",
        "  - Free shipping for members\n",
        "  - $5 shipping for non-members\n",
        "- If order total is less than $50:\n",
        "  - $3 shipping for members\n",
        "  - $8 shipping for non-members\n",
        "\n",
        "**Your task:** Complete the nested conditional so that when you run the code with the given initial values (`order_total = 45` and `is_member = True`), the output shows a shipping cost of **$3**."
      ]
    },
    {
      "cell_type": "code",
      "execution_count": 3,
      "metadata": {},
      "outputs": [
        {
          "name": "stdout",
          "output_type": "stream",
          "text": [
            "Member: True\n",
            "Order Total: $45\n",
            "Shipping Cost: $3\n"
          ]
        }
      ],
      "source": [
        "# Initial conditions - DO NOT CHANGE THESE\n",
        "order_total = 45\n",
        "is_member = True\n",
        "shipping_cost = 0\n",
        "\n",
        "if order_total >= 50:\n",
        "    if is_member == True:\n",
        "        print(f\"Member: {is_member}\")\n",
        "        print(f\"Order Total: ${order_total}\")\n",
        "    if is_member == False:\n",
        "        print(f\"Order Total: ${order_total}\")\n",
        "        shipping_cost += 5\n",
        "if order_total <<50:\n",
        "    if is_member == True:\n",
        "        print(f\"Member: {is_member}\")\n",
        "        print(f\"Order Total: ${order_total}\")\n",
        "        shipping_cost += 3\n",
        "    if is_member == False:\n",
        "        print(f\"Order Total: ${order_total}\")\n",
        "        shipping_cost += 8\n",
        "\n",
        "print(f\"Shipping Cost: ${shipping_cost}\")\n",
        "\n",
        "# Expected output with given values: Shipping Cost: $3"
      ]
    },
    {
      "cell_type": "markdown",
      "metadata": {},
      "source": [
        "## Problem 2: Build a Restaurant Recommendation System (Medium)\n",
        "\n",
        "Create a system that recommends a restaurant based on the user's budget and cuisine preference.\n",
        "\n",
        "**Requirements:**\n",
        "- If budget is \"high\" (over $30 per person):\n",
        "  - If cuisine is \"italian\": recommend \"Bella Notte\"\n",
        "  - If cuisine is \"japanese\": recommend \"Sakura Palace\"\n",
        "  - For any other cuisine: recommend \"The Grand Bistro\"\n",
        "- If budget is \"medium\" ($15-$30 per person):\n",
        "  - If cuisine is \"italian\": recommend \"Mario's Pizzeria\"\n",
        "  - If cuisine is \"japanese\": recommend \"Tokyo Express\"\n",
        "  - For any other cuisine: recommend \"Downtown Diner\"\n",
        "- If budget is \"low\" (under $15 per person):\n",
        "  - Recommend \"Food Court\" regardless of cuisine preference\n",
        "\n",
        "**Your task:** Write the complete nested conditional structure. Store the recommendation in the `recommendation` variable."
      ]
    },
    {
      "cell_type": "code",
      "execution_count": 7,
      "metadata": {},
      "outputs": [
        {
          "name": "stdout",
          "output_type": "stream",
          "text": [
            "Budget per person: $25\n",
            "Preferred cuisine: japanese\n",
            "\n",
            "Recommendation: Tokyo Express\n"
          ]
        }
      ],
      "source": [
        "budget_per_person = 25\n",
        "cuisine = \"japanese\"\n",
        "recommendation = \"\"\n",
        "\n",
        "if budget_per_person >= 30:\n",
        "    if cuisine == \"japanese\":\n",
        "        recommendation = \"Sakura Palace\"\n",
        "    elif cuisine == \"italian\":\n",
        "        recommendation = \"Bella Notte\"\n",
        "    else:\n",
        "        recommendation = \"Grand Bistro\"\n",
        "\n",
        "elif 15 < budget_per_person < 30:\n",
        "    if cuisine == \"japanese\":\n",
        "        recommendation = \"Tokyo Express\"\n",
        "    elif cuisine == \"italian\":\n",
        "        recommendation = \"Mario's Pizzeria\"\n",
        "    else:\n",
        "        recommendation = \"Downtown Diner\"\n",
        "\n",
        "elif 0 < budget_per_person <= 15:\n",
        "    recommendation = \"Food Court\"\n",
        "\n",
        "print(f\"Budget per person: ${budget_per_person}\")\n",
        "print(f\"Preferred cuisine: {cuisine}\")\n",
        "print(f\"\\nRecommendation: {recommendation}\")\n",
        "\n",
        "# Test your code with these scenarios:\n",
        "# budget_per_person=35, cuisine=\"italian\" → \"Bella Notte\"\n",
        "# budget_per_person=25, cuisine=\"japanese\" → \"Tokyo Express\"\n",
        "# budget_per_person=20, cuisine=\"mexican\" → \"Downtown Diner\"\n",
        "# budget_per_person=10, cuisine=\"italian\" → \"Food Court\""
      ]
    },
    {
      "cell_type": "markdown",
      "metadata": {},
      "source": [
        "## Problem 3: Design a Smart Home Thermostat System (Hard)\n",
        "\n",
        "You're designing the logic for a smart thermostat that automatically adjusts temperature based on multiple factors.\n",
        "\n",
        "**Word Problem:**\n",
        "\n",
        "The thermostat needs to decide what action to take based on:\n",
        "- Current temperature\n",
        "- Whether anyone is home\n",
        "- Time of day (represented as \"day\" or \"night\")\n",
        "- Energy saving mode (on or off)\n",
        "\n",
        "**Logic Requirements:**\n",
        "\n",
        "1. **If someone is home:**\n",
        "   - During the day:\n",
        "     - If temp is above 75°F: set action to \"cooling\" and target_temp to 72\n",
        "     - If temp is below 68°F: set action to \"heating\" and target_temp to 70\n",
        "     - Otherwise: set action to \"maintaining\" and keep current temp\n",
        "   - During the night:\n",
        "     - If temp is above 72°F: set action to \"cooling\" and target_temp to 68\n",
        "     - If temp is below 65°F: set action to \"heating\" and target_temp to 68\n",
        "     - Otherwise: set action to \"maintaining\" and keep current temp\n",
        "\n",
        "2. **If no one is home:**\n",
        "   - If energy saving mode is ON:\n",
        "     - If temp is above 80°F: set action to \"cooling\" and target_temp to 78\n",
        "     - If temp is below 60°F: set action to \"heating\" and target_temp to 62\n",
        "     - Otherwise: set action to \"off\" and target_temp to current temp\n",
        "   - If energy saving mode is OFF:\n",
        "     - Set action to \"maintaining\" and target_temp to 70\n",
        "\n",
        "**Your task:** Design the complete nested conditional algorithm from scratch. You're given the framework below with initial values, but NO code. Write the entire logic yourself."
      ]
    },
    {
      "cell_type": "code",
      "execution_count": null,
      "metadata": {},
      "outputs": [
        {
          "name": "stdout",
          "output_type": "stream",
          "text": [
            "=== Smart Thermostat Status ===\n",
            "Current Temperature: 78°F\n",
            "Home Occupied: True\n",
            "Time of Day: day\n",
            "Energy Saving Mode: False\n",
            "\n",
            "=== Thermostat Action ===\n",
            "Action: cooling\n",
            "Target Temperature: 72°F\n"
          ]
        }
      ],
      "source": [
        "# Test variables\n",
        "current_temp = 78\n",
        "is_home_occupied = True\n",
        "time_of_day = \"day\" \n",
        "energy_saving_mode = False\n",
        "\n",
        "# Variables to set\n",
        "action = \"\"  \n",
        "target_temp = current_temp\n",
        "\n",
        "print(\"=== Smart Thermostat Status ===\")\n",
        "print(f\"Current Temperature: {current_temp}°F\")\n",
        "print(f\"Home Occupied: {is_home_occupied}\")\n",
        "print(f\"Time of Day: {time_of_day}\")\n",
        "print(f\"Energy Saving Mode: {energy_saving_mode}\")\n",
        "print()\n",
        "\n",
        "# YOUR CODE HERE: Write the complete nested conditional algorithm\n",
        "\n",
        "if is_home_occupied:\n",
        "    # Home is occupied\n",
        "    if energy_saving_mode:\n",
        "        # Occupied + saving energy\n",
        "        if time_of_day == \"day\":\n",
        "            target_temp = 74\n",
        "        else:  # night\n",
        "            target_temp = 66\n",
        "    else:\n",
        "        # Normal mode\n",
        "        if time_of_day == \"day\":\n",
        "            target_temp = 72\n",
        "        else:\n",
        "            target_temp = 68\n",
        "else:\n",
        "    # Home not occupied\n",
        "    if energy_saving_mode:\n",
        "        # Saving energy\n",
        "        if time_of_day == \"day\":\n",
        "            target_temp = 78\n",
        "        else:\n",
        "            target_temp = 70\n",
        "    else:\n",
        "        # Normal mode but no one home\n",
        "        if time_of_day == \"day\":\n",
        "            target_temp = 75\n",
        "        else:\n",
        "            target_temp = 70\n",
        "\n",
        "#  action based on temperature\n",
        "if current_temp > target_temp:\n",
        "    action = \"cooling\"\n",
        "elif current_temp < target_temp:\n",
        "    action = \"heating\"\n",
        "elif current_temp == target_temp:\n",
        "    action = \"maintaining\"\n",
        "else:\n",
        "    action = \"off\"\n",
        "\n",
        "print(\"=== Thermostat Action ===\")\n",
        "print(f\"Action: {action}\")\n",
        "print(f\"Target Temperature: {target_temp}°F\")\n"
      ]
    },
    {
      "cell_type": "markdown",
      "metadata": {},
      "source": [
        "## Reflection Questions\n",
        "\n",
        "After completing all three problems, answer these questions:\n",
        "\n",
        "1. Which problem was the most challenging and why?\n",
        "2. How did you decide on the structure of your nested conditionals in Problem 3?\n",
        "3. Can you think of a real-world situation where you would need even MORE levels of nesting than Problem 3?"
      ]
    }
  ],
  "metadata": {
    "kernelspec": {
      "display_name": "venv",
      "language": "python",
      "name": "python3"
    },
    "language_info": {
      "codemirror_mode": {
        "name": "ipython",
        "version": 3
      },
      "file_extension": ".py",
      "mimetype": "text/x-python",
      "name": "python",
      "nbconvert_exporter": "python",
      "pygments_lexer": "ipython3",
      "version": "3.12.3"
    }
  },
  "nbformat": 4,
  "nbformat_minor": 4
}
