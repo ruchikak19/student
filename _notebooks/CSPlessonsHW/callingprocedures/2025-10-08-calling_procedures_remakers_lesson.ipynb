{
 "cells": [
  {
   "cell_type": "raw",
   "id": "58d6ad13",
   "metadata": {
    "vscode": {
     "languageId": "raw"
    }
   },
   "source": [
    "---\n",
    "toc: true\n",
    "comments: false\n",
    "layout: post\n",
    "categories: [CSP Big Idea 3]\n",
    "title: 3.12 Calling Procedures Lesson\n",
    "author: Sathwik Kintada\n",
    "description: 3.12 Calling Procedures lesson\n",
    "permalink: /csp/big-idea-3/calling-procedures/p4/lesson\n",
    "---"
   ]
  },
  {
   "cell_type": "markdown",
   "id": "1a67b4ac",
   "metadata": {},
   "source": [
    "## 3.12 Calling Procedures"
   ]
  },
  {
   "cell_type": "markdown",
   "id": "546f608a",
   "metadata": {},
   "source": [
    "Every morning you brush your teeth, wash your face, and eat breakfast. You don’t rewrite those steps every day — you just do them. That’s what calling a procedure is: you already have the steps (the function), and you just call it whenever you need it."
   ]
  },
  {
   "cell_type": "markdown",
   "id": "da19290b",
   "metadata": {},
   "source": [
    "What is it?\n",
    "- A procedure is a reusable group of instructions.\n",
    "- Also called a function in Python or JavaScript.\n",
    "- Procedures allow you to avoid rewriting the same code.\n",
    "What does it mean?\n",
    "- Calling a procedure means telling the computer to run the instructions in that procedure.\n",
    "- You can call a procedure multiple times with different input values without rewriting it.\n",
    "- This is different from defining the procedure — defining is creating it, calling is using it.\n"
   ]
  },
  {
   "cell_type": "markdown",
   "id": "7924f727",
   "metadata": {},
   "source": [
    "Python Example:\n",
    "- Use def to define a procedure\n",
    "- You can use the name of the functionand paranthesis after to call it"
   ]
  },
  {
   "cell_type": "code",
   "execution_count": 1,
   "id": "3e89f8df",
   "metadata": {},
   "outputs": [
    {
     "name": "stdout",
     "output_type": "stream",
     "text": [
      "Welcome to the program!\n"
     ]
    }
   ],
   "source": [
    "# Define a procedure\n",
    "def show_message():\n",
    "    print(\"Welcome to the program!\")\n",
    "\n",
    "# Call the procedure\n",
    "show_message()  # Output: Welcome to the program!"
   ]
  },
  {
   "cell_type": "markdown",
   "id": "a0f35669",
   "metadata": {},
   "source": [
    "Javascript Example:\n",
    "- You use function to define a procedure\n",
    "- Just like python if you type the name of the function with parenthesis right after it, you can call the procedure"
   ]
  },
  {
   "cell_type": "code",
   "execution_count": null,
   "id": "095d5a3c",
   "metadata": {
    "vscode": {
     "languageId": "javascript"
    }
   },
   "outputs": [],
   "source": [
    "%%js\n",
    "// Define a procedure\n",
    "function showMessage() {\n",
    "    console.log(\"Welcome to the program!\");\n",
    "}\n",
    "\n",
    "// Call the procedure\n",
    "showMessage();  // Output: Welcome to the program!"
   ]
  },
  {
   "cell_type": "markdown",
   "id": "c0bad1ca",
   "metadata": {},
   "source": [
    "### Calling A Procedure Inside Another Procedure"
   ]
  },
  {
   "cell_type": "markdown",
   "id": "5cc114cd",
   "metadata": {},
   "source": [
    "Why?\n",
    "- Large problems can often be broken into smaller steps (decomposition).\n",
    "- Each step can be a procedure, and one procedure can call another.\n",
    "- This makes programs easier to read, debug, and reuse."
   ]
  },
  {
   "cell_type": "markdown",
   "id": "aeb3a821",
   "metadata": {},
   "source": [
    "Python Example:\n",
    "- Calling the procedure format_name returns the formatted name so the other procedure can use it"
   ]
  },
  {
   "cell_type": "code",
   "execution_count": 2,
   "id": "f5dcd556",
   "metadata": {},
   "outputs": [
    {
     "name": "stdout",
     "output_type": "stream",
     "text": [
      "Hello, Sathwik Kintada!\n"
     ]
    }
   ],
   "source": [
    "def format_name(first, last):\n",
    "    return first + \" \" + last\n",
    "\n",
    "def greet_person(first, last):\n",
    "    full_name = format_name(first, last)\n",
    "    print(\"Hello, \" + full_name + \"!\")\n",
    "\n",
    "greet_person(\"Sathwik\", \"Kintada\")  # Output: Hello, Sathwik Kintada!\n"
   ]
  },
  {
   "cell_type": "markdown",
   "id": "400a7933",
   "metadata": {},
   "source": [
    "JavaScript Example:\n",
    "- Calling the procedure formatName returns the formatted name so the other procedure can use it"
   ]
  },
  {
   "cell_type": "code",
   "execution_count": 3,
   "id": "5d26a0f4",
   "metadata": {
    "vscode": {
     "languageId": "javascript"
    }
   },
   "outputs": [
    {
     "data": {
      "application/javascript": "function formatName(first, last) {\n    return first + \" \" + last;\n}\n\nfunction greetPerson(first, last) {\n    let fullName = formatName(first, last);\n    console.log(\"Hello, \" + fullName + \"!\");\n}\n\ngreetPerson(\"Lucas\", \"Masterson\"); // Output: Hello, Lucas Masterson!\n",
      "text/plain": [
       "<IPython.core.display.Javascript object>"
      ]
     },
     "metadata": {},
     "output_type": "display_data"
    }
   ],
   "source": [
    "%%js\n",
    "function formatName(first, last) {\n",
    "    return first + \" \" + last;\n",
    "}\n",
    "\n",
    "function greetPerson(first, last) {\n",
    "    let fullName = formatName(first, last);\n",
    "    console.log(\"Hello, \" + fullName + \"!\");\n",
    "}\n",
    "\n",
    "greetPerson(\"Lucas\", \"Masterson\"); // Output: Hello, Lucas Masterson!"
   ]
  },
  {
   "cell_type": "markdown",
   "id": "9f3c6f63",
   "metadata": {},
   "source": [
    "### Key Takeaways\n",
    "- Helper procedures do one simple task.\n",
    "- Outer procedures call helpers to combine or display results.\n",
    "- This is decomposition — breaking a problem into smaller steps.\n",
    "- Calling procedures inside procedures makes code reusable and organized."
   ]
  }
 ],
 "metadata": {
  "kernelspec": {
   "display_name": "Python 3",
   "language": "python",
   "name": "python3"
  },
  "language_info": {
   "codemirror_mode": {
    "name": "ipython",
    "version": 3
   },
   "file_extension": ".py",
   "mimetype": "text/x-python",
   "name": "python",
   "nbconvert_exporter": "python",
   "pygments_lexer": "ipython3",
   "version": "3.10.1"
  }
 },
 "nbformat": 4,
 "nbformat_minor": 5
}
