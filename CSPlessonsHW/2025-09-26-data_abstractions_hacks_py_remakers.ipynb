{
 "cells": [
  {
   "cell_type": "code",
   "execution_count": null,
   "id": "ca7c3f46",
   "metadata": {},
   "outputs": [],
   "source": [
    "---\n",
    "toc: true\n",
    "comments: false\n",
    "layout: post\n",
    "categories: [CSP Big Idea 3]\n",
    "title: 3.2 Data Abstractions Python Hack\n",
    "author: Jaynee Chauhan, Michelle Ji, Lucas Masterson\n",
    "description: Hack(s) for intro to data abstractions in Python.\n",
    "type: ccc\n",
    "permalink: /csp/big-idea-3/data-abstractions/p4/hacks-py\n",
    "---"
   ]
  },
  {
   "cell_type": "markdown",
   "id": "14d2f5f9",
   "metadata": {},
   "source": [
    "## Python Lab: Simple DBs\n",
    "\n",
    "In this lab, you'll be working on a simple \"database\" system consisting of dictionaries. The idea here is to understand some basic CRUD actions and how you can use data abstractions (dictionaries in this case) to represent redundant, similar data under a unified structure.\n",
    "\n",
    "You'll have to do some research about some Python syntax for this!\n",
    "\n",
    "You can complete the Python lab by simply running your code and getting your outputs in the Jupyter notebook."
   ]
  },
  {
   "cell_type": "code",
   "execution_count": 1,
   "id": "04367227",
   "metadata": {},
   "outputs": [
    {
     "name": "stdout",
     "output_type": "stream",
     "text": [
      "All records in the list:\n",
      "Index 0: {'name': 'Alice', 'age': 16, 'grade': 'A'}\n",
      "Index 1: {'name': 'Bob', 'age': 17, 'grade': 'B'}\n",
      "Index 2: {'name': 'Charlie', 'age': 16, 'grade': 'C'}\n"
     ]
    }
   ],
   "source": [
    "db = [\n",
    "    {\"name\": \"Alice\", \"age\": 16, \"grade\": \"A\"},\n",
    "    {\"name\": \"Bob\", \"age\": 17, \"grade\": \"B\"},\n",
    "    {\"name\": \"Charlie\", \"age\": 16, \"grade\": \"C\"}\n",
    "]\n",
    "\n",
    "# Display all records\n",
    "def display_db(database):\n",
    "    print(\"All records in the list:\")\n",
    "    for i, record in enumerate(database):\n",
    "        print(f\"Index {i}: {record}\")\n",
    "\n",
    "# Add a new record\n",
    "def add_record(database):\n",
    "    name = input(\"Enter name: \")\n",
    "    age_input = input(\"Enter age: \")\n",
    "    # Validate age input\n",
    "    try:\n",
    "        age = int(age_input)\n",
    "    except ValueError:\n",
    "        print(\"Invalid age entered. Must be an integer.\")\n",
    "        return\n",
    "    grade = input(\"Enter grade: \")\n",
    "    database.append({\"name\": name, \"age\": age, \"grade\": grade})\n",
    "    print(f\"Added record for {name}.\")\n",
    "\n",
    "# Find a record by name\n",
    "def find_record(database, search_name):\n",
    "    found = False\n",
    "    for record in database:\n",
    "        if record[\"name\"].lower() == search_name.lower():\n",
    "            print(f\"Found record: {record}\")\n",
    "            found = True\n",
    "            break\n",
    "    if not found:\n",
    "        print(f\"No record found with name '{search_name}'.\")\n",
    "\n",
    "# Update a record\n",
    "def update_record(database, search_name):\n",
    "    for record in database:\n",
    "        if record[\"name\"].lower() == search_name.lower():\n",
    "            print(f\"Current record: {record}\")\n",
    "            new_age_input = input(\"Enter new age (leave blank to keep current): \")\n",
    "            if new_age_input.strip():\n",
    "                try:\n",
    "                    record[\"age\"] = int(new_age_input)\n",
    "                except ValueError:\n",
    "                    print(\"Invalid age entered. Skipping age update.\")\n",
    "            new_grade = input(\"Enter new grade (leave blank to keep current): \")\n",
    "            if new_grade.strip():\n",
    "                record[\"grade\"] = new_grade\n",
    "            print(f\"Updated record: {record}\")\n",
    "            return\n",
    "    print(f\"No record found with name '{search_name}'.\")\n",
    "\n",
    "# Delete a record\n",
    "def delete_record(database, search_name):\n",
    "    for i, record in enumerate(database):\n",
    "        if record[\"name\"].lower() == search_name.lower():\n",
    "            del database[i]\n",
    "            print(f\"Deleted record for {search_name}.\")\n",
    "            return\n",
    "    print(f\"No record found with name '{search_name}'.\")\n",
    "\n",
    "# Example usage\n",
    "display_db(db)\n",
    "\n",
    "# Uncomment below to test functions interactively:\n",
    "# add_record(db)\n",
    "# find_record(db, \"Alice\")\n",
    "# update_record(db, \"Bob\")\n",
    "# delete_record(db, \"Charlie\")\n",
    "# display_db(db)"
   ]
  }
 ],
 "metadata": {
  "kernelspec": {
   "display_name": "venv",
   "language": "python",
   "name": "python3"
  },
  "language_info": {
   "codemirror_mode": {
    "name": "ipython",
    "version": 3
   },
   "file_extension": ".py",
   "mimetype": "text/x-python",
   "name": "python",
   "nbconvert_exporter": "python",
   "pygments_lexer": "ipython3",
   "version": "3.12.3"
  }
 },
 "nbformat": 4,
 "nbformat_minor": 5
}
